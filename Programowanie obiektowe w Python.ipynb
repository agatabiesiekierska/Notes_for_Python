{
 "cells": [
  {
   "attachments": {},
   "cell_type": "markdown",
   "metadata": {},
   "source": [
    "Class definition"
   ]
  },
  {
   "cell_type": "code",
   "execution_count": 1,
   "metadata": {},
   "outputs": [
    {
     "name": "stdout",
     "output_type": "stream",
     "text": [
      "5\n"
     ]
    }
   ],
   "source": [
    "# Python is an object oriented programming language.\n",
    "# Almost everything in Python is an object, with its properties and methods.\n",
    "# A Class is like an object constructor, or a \"blueprint\" for creating objects.\n",
    "\n",
    "class FirstClass:\n",
    "    x = 5\n",
    "\n",
    "p1 = FirstClass()\n",
    "print(p1.x)\n"
   ]
  },
  {
   "cell_type": "code",
   "execution_count": null,
   "metadata": {},
   "outputs": [],
   "source": [
    "# The __init__() Function\n",
    "# The examples above are classes and objects in their simplest form, and are not really useful in real life applications.\n",
    "# To understand the meaning of classes we have to understand the built-in __init__() function.\n",
    "# All classes have a function called __init__(), which is always executed when the class is being initiated.\n",
    "# Use the __init__() function to assign values to object properties, or other operations that are necessary to do when the object is being created:\n",
    "\n",
    "class Person:\n",
    "  def __init__(self, name, age): # We define the atributes of the class\n",
    "    self.name = name\n",
    "    self.age = age\n",
    "\n",
    "p1 = Person(\"John\", 36)\n",
    "\n",
    "print(p1.name)\n",
    "print(p1.age)"
   ]
  },
  {
   "cell_type": "code",
   "execution_count": 3,
   "metadata": {},
   "outputs": [
    {
     "name": "stdout",
     "output_type": "stream",
     "text": [
      "<__main__.Person object at 0x000002B163DE8150>\n"
     ]
    }
   ],
   "source": [
    "class Person:\n",
    "  def __init__(self, name, age):\n",
    "    self.name = name\n",
    "    self.age = age\n",
    "\n",
    "p1 = Person(\"John\", 36)\n",
    "\n",
    "print(p1)"
   ]
  },
  {
   "cell_type": "code",
   "execution_count": 2,
   "metadata": {},
   "outputs": [
    {
     "name": "stdout",
     "output_type": "stream",
     "text": [
      "John(36)\n"
     ]
    }
   ],
   "source": [
    "class Person:\n",
    "  def __init__(self, name, age):\n",
    "    self.name = name\n",
    "    self.age = age\n",
    "\n",
    "  def __str__(self):\n",
    "    return f\"{self.name}({self.age})\"\n",
    "\n",
    "p1 = Person(\"John\", 36)\n",
    "\n",
    "print(p1)"
   ]
  },
  {
   "cell_type": "code",
   "execution_count": 5,
   "metadata": {},
   "outputs": [
    {
     "data": {
      "text/plain": [
       "'Solvent heksane is non-polar'"
      ]
     },
     "execution_count": 5,
     "metadata": {},
     "output_type": "execute_result"
    }
   ],
   "source": [
    "class eluents:\n",
    "    def __init__(self, name, polarity, power = 'unknown'):\n",
    "        self.name = name\n",
    "        self.polarity = polarity\n",
    "        self.power = power\n",
    "\n",
    "    def displayValues(self):\n",
    "        if self.polarity == 'non-polar': return str('Solvent '+ str(self.name)+' is ' + self.polarity)\n",
    "        elif self.polarity == 'polar': return str('Solvent '+ str(self.name)+' is ' + self.polarity)\n",
    "        else: return None\n",
    "\n",
    "heksane = eluents('heksane', 'non-polar','weak')\n",
    "\n",
    "heksane.displayValues()\n",
    "\n"
   ]
  },
  {
   "cell_type": "code",
   "execution_count": 1,
   "metadata": {},
   "outputs": [
    {
     "name": "stdout",
     "output_type": "stream",
     "text": [
      "Intel 16000 NVIDIA 2000\n"
     ]
    }
   ],
   "source": [
    "class Computer:\n",
    "    def __init__(self, cpu, ram = 8192, gpu = 'NVIDIA', price = 2000):\n",
    "        self.setCpu(cpu)\n",
    "        self.setRam(ram)\n",
    "        self.gpu = gpu\n",
    "        self.price = price\n",
    "\n",
    "    def setCpu(self, cpu):\n",
    "        if cpu.lower() == 'amd' or cpu.lower() == 'intel' or cpu.lower() == 'arm':\n",
    "            self.cpu = cpu\n",
    "        else:\n",
    "            self.cpu = 'unknown'\n",
    "    def setRam(self, ram):\n",
    "        if type(ram) == int and ram >= 4096:\n",
    "            self.ram = ram\n",
    "        else:\n",
    "            self.ram = 8192\n",
    "    def displayInfo(self):\n",
    "        print(self.cpu, self.ram, self.gpu, self.price)\n",
    "\n",
    "computer1 = Computer('Intel', 16000)\n",
    "computer1.displayInfo()"
   ]
  },
  {
   "cell_type": "code",
   "execution_count": 3,
   "metadata": {},
   "outputs": [
    {
     "name": "stdout",
     "output_type": "stream",
     "text": [
      "Kasia Lis 20 Krk Tech School 1 None\n",
      "Poland\n",
      "\n",
      "School name:  Tech School  City:  Waw\n",
      "Students:\n",
      "Kasia Lis 20 Krk Tech School Math\n",
      "Adam Kowalski 21 Waw Tech School IT\n"
     ]
    }
   ],
   "source": [
    "import random\n",
    "class Student:\n",
    "    def __init__(self, name, surname, age, city):\n",
    "        self.name = name\n",
    "        self.surname = surname\n",
    "        self.age = age\n",
    "        self.city = city\n",
    "        self.schoolName = None\n",
    "        self.fieldOfStudy = None\n",
    "\n",
    "    def printInfo(self):\n",
    "        print(self.name, self.surname, self.age, self.city, self.schoolName, self.fieldOfStudy)\n",
    "\n",
    "class School:\n",
    "    def __init__(self, name, city):\n",
    "        self.name = name\n",
    "        self.city = city\n",
    "        self.studentsList = []\n",
    "        self.fieldsOfStudy = [\"IT\", \"Math\", \"Robotics\"]\n",
    "\n",
    "    def addStudent(self, student):\n",
    "        if isinstance(student, Student):  # sprawdza, czy obiekt jest danej instancji (Studenta)\n",
    "            self.studentsList.append(student)\n",
    "            student.schoolName = self.name\n",
    "            student.fieldOfStudy = random.choice(self.fieldsOfStudy)\n",
    "\n",
    "    def printSchoolInfo(self):\n",
    "        print(\"School name: \", self.name, \" City: \", self.city)\n",
    "        print(\"Students:\")\n",
    "        for i in self.studentsList:\n",
    "            i.printInfo()\n",
    "\n",
    "student1 = Student(\"Kasia\", \"Lis\", 20, \"Krk\")\n",
    "student1.schoolName = \"Tech School 1\"\n",
    "student1.country = \"Poland\"\n",
    "student1.printInfo()\n",
    "print(student1.country)\n",
    "\n",
    "student2 = Student(\"Adam\", \"Kowalski\", 21, \"Waw\")\n",
    "\n",
    "school = School(\"Tech School\", \"Waw\")\n",
    "school.addStudent(student1)\n",
    "school.addStudent(student2)\n",
    "print()\n",
    "school.printSchoolInfo()\n"
   ]
  },
  {
   "cell_type": "markdown",
   "metadata": {},
   "source": [
    "Destructor - deletes method / variable in the class"
   ]
  },
  {
   "cell_type": "code",
   "execution_count": null,
   "metadata": {},
   "outputs": [],
   "source": [
    "class Dog:\n",
    "    def __init__(self):\n",
    "        print(\"Konstruktor!\")\n",
    "\n",
    "    def __del__(self):\n",
    "        print(\"Destruktor!\")\n",
    "\n",
    "\n",
    "dog1 = Dog()\n"
   ]
  },
  {
   "cell_type": "code",
   "execution_count": 5,
   "metadata": {},
   "outputs": [
    {
     "name": "stdout",
     "output_type": "stream",
     "text": [
      "Alex numEmployees:  1\n",
      "Rose numEmployees:  2\n",
      "Ricky numEmployees:  3\n",
      "Julian numEmployees:  4\n",
      "Employee.numEmployees:  4\n"
     ]
    }
   ],
   "source": [
    "# Zmienna staytyczna zmienna przypisana dla każdego elementu klasy, odnosimy się do nazwy klasy\n",
    "class Employee:\n",
    "    'Employee class describing company employee'\n",
    "    numEmployees = 0\n",
    "    employeesList = []\n",
    "\n",
    "    def __init__(self, name):\n",
    "        'Constructor of employees'\n",
    "        self.name = name\n",
    "        Employee.numEmployees +=1\n",
    "        print(self.name, 'numEmployees: ', Employee.numEmployees)\n",
    "        Employee.employeesList.append(self)\n",
    "\n",
    "    def printAllEmployees(self):\n",
    "        for i in Employee.employeesList:\n",
    "            print(i.name)\n",
    "\n",
    "employee1 = Employee('Alex')\n",
    "employee2 = Employee('Rose')\n",
    "employee3 = Employee('Ricky')\n",
    "employee4 = Employee('Julian')\n",
    "\n",
    "print('Employee.numEmployees: ', Employee.numEmployees)"
   ]
  },
  {
   "cell_type": "code",
   "execution_count": 8,
   "metadata": {},
   "outputs": [
    {
     "name": "stdout",
     "output_type": "stream",
     "text": [
      "String dokuments what this class do and for what it is\n"
     ]
    }
   ],
   "source": [
    "# Doc string - string dokumentujący, umieszczony w pierwszej linijce definicji funkcji, metody lub klasy. \n",
    "# Wywoływany funkcją __doc__:\n",
    "\n",
    "class Pearson:\n",
    "    'String dokuments what this class do and for what it is'\n",
    "    def __init__(self, name, surname):\n",
    "        self.name = name\n",
    "        self.surname = surname\n",
    "        self.printDocString()\n",
    "\n",
    "    def printDocString(self):\n",
    "        print(Pearson.__doc__) # We call this str for documentation\n",
    "\n",
    "pearson = Pearson('Bubbles', 'Unknown')"
   ]
  },
  {
   "cell_type": "code",
   "execution_count": null,
   "metadata": {},
   "outputs": [],
   "source": [
    "class Pearson:\n",
    "    'String dokuments what this class do and for what it is'\n",
    "    def __init__(self, name, surname):\n",
    "        print(Pearson.__name__) # shows name of the class\n",
    "        self.name = name\n",
    "        self.surname = surname\n",
    "        self.printDocString()\n",
    "\n",
    "    def printDocString(self):\n",
    "        print(Pearson.__doc__) # We call this str for documentation\n",
    "\n",
    "pearson = Pearson('Bubbles', 'Unknown')"
   ]
  },
  {
   "cell_type": "code",
   "execution_count": 10,
   "metadata": {},
   "outputs": [
    {
     "name": "stdout",
     "output_type": "stream",
     "text": [
      "Pearson\n",
      "__main__\n",
      "False\n",
      "True\n",
      "Bubbles\n",
      "Canada\n"
     ]
    }
   ],
   "source": [
    "class Pearson:\n",
    "    'String dokuments what this class do and for what it is'\n",
    "    def __init__(self, name, surname):\n",
    "        print(Pearson.__name__) # shows name of the class Pearson\n",
    "        self.name = name\n",
    "# name of the module in which the class is defined\n",
    "        print(Pearson.__module__) # __main__ in interactive mode\n",
    "        # if the atribute is in the object\n",
    "        print(hasattr(self, 'city')) # False\n",
    "        print(hasattr(self, 'name')) # True\n",
    "        print(getattr(self, 'name')) # Show the value of atribute\n",
    "        setattr(self, 'country','Canada') # set new atribute\n",
    "        print(self.country) # Canada\n",
    "        delattr(self, 'country') # deletes an atribute\n",
    "\n",
    "\n",
    "pearson = Pearson('Bubbles', 'Unknown')"
   ]
  },
  {
   "cell_type": "markdown",
   "metadata": {},
   "source": [
    "Inheritance of classes"
   ]
  },
  {
   "cell_type": "code",
   "execution_count": null,
   "metadata": {},
   "outputs": [],
   "source": [
    "class Person:  # The main class\n",
    "    def __init__(self, name, surname, city):\n",
    "        self.name = name\n",
    "        self.surname = surname\n",
    "        self.city = city\n",
    "        print(\"Person constructor!\")\n",
    "\n",
    "    def printPersonData(self):\n",
    "        print(\"Person.printPersonData: \", self.name, \n",
    "                self.surname, self.city)\n",
    "\n",
    "\n",
    "person1 = Person(\"JRoc\", \"Nigga\", \"Canada\")\n",
    "person1.printPersonData()\n",
    "\n",
    "class bug(Pearson):\n",
    "    def __init__(self, name, surname, city, companyName, salary):\n",
    "        Person.__init__(self,name, surname, city)\n",
    "        self.companyname = companyName\n",
    "        self.salary = salary\n",
    "        print('Employee constructor!')\n",
    "    \n",
    "    def printEmployeeData(self):\n",
    "        print(\"Employee.printEmployeeData: \", self.name, self.surname, self.companyName, self.salary)\n",
    "\n",
    "print()\n",
    "employee1 = Employee(\"Kasia\", \"Kot\", \"Waw\", \"Tech Ltd\", 10000)\n",
    "employee1.printPersonData()\n",
    "employee1.printEmployeeData()\n",
    "\n",
    "class Manager(Employee):\n",
    "    def __init__(self, name, surname, city, companyName, salary, department):\n",
    "        Employee.__init__(self, name, surname, city, companyName, salary)\n",
    "        self.department = department\n",
    "        print(\"Manager constructor!\")\n",
    "\n",
    "    def hireEmployee(self):\n",
    "        print(\"Hire employee\")\n",
    "\n",
    "    def printManagerData(self):\n",
    "        print(\"Manager data:\", self.name, self.surname, self.department)\n",
    "        \n",
    "print()\n",
    "manager1 = Manager(\"Ania\", \"X\", \"Waw\", \"Tech2 Ltd\", 15000, \"IT\")\n",
    "manager1.printPersonData()\n",
    "manager1.printEmployeeData()\n",
    "manager1.printManagerData()\n",
    "manager1.hireEmployee()"
   ]
  },
  {
   "cell_type": "markdown",
   "metadata": {},
   "source": [
    "Hermetyzacja w klasie - dane zmienne i metody są dostępne tylko w obrębie danej klasy, co oznacza, że nie da się ich wywołać poza nią, oraz że podklasy nie dziedziczą tej metody/zmiennej "
   ]
  },
  {
   "cell_type": "code",
   "execution_count": 1,
   "metadata": {},
   "outputs": [
    {
     "name": "stdout",
     "output_type": "stream",
     "text": [
      "Dodge Charger gears number: 5\n",
      "5\n",
      "gears number: 5\n",
      "gears number: 5\n"
     ]
    }
   ],
   "source": [
    "class Vehicle:\n",
    "    def __init__(self, brand, name): # konstruktor klasy\n",
    "        self.brand = brand\n",
    "        self.name = name\n",
    "        self.__gears = 5 # hermetyczna zmienna\n",
    "\n",
    "    def __getGearsInfoStr(self): # hermetyczna metoda\n",
    "        return \"gears number: \" + str(self.__gears)\n",
    "\n",
    "    def printInfo(self):\n",
    "        print(self.brand, self.name, self.__getGearsInfoStr() )\n",
    "\n",
    "\n",
    "vehicle1 = Vehicle(\"Dodge\", \"Charger\")\n",
    "# print(vehicle1.__gears) # błąd\n",
    "# vehicle1.__getGearsInfoStr() # błąd\n",
    "vehicle1.printInfo()\n",
    "print( vehicle1._Vehicle__gears ) # niezalecane, ale można się dostać do zmiennych prywatnych w klasie\n",
    "print( vehicle1._Vehicle__getGearsInfoStr()) # możliwo\n",
    "\n",
    "\n",
    "class Car(Vehicle):\n",
    "    def __init__(self, brand, name):\n",
    "        Vehicle.__init__(self, brand, name)\n",
    "        # print(self.__getGearsInfoStr()) # bląd\n",
    "        print(self._Vehicle__getGearsInfoStr())\n",
    "\n",
    "car1 = Car(\"Ford\", \"Mustang\")"
   ]
  },
  {
   "cell_type": "markdown",
   "metadata": {},
   "source": [
    "Gettery i settery - metody wywoływane automatycznie przez Pythona w momencie kiedy chcemy ustalić lub pobrać wartość zmiennej prywatnej"
   ]
  },
  {
   "cell_type": "code",
   "execution_count": null,
   "metadata": {},
   "outputs": [],
   "source": [
    "class Vehicle:\n",
    "    def __init__(self):\n",
    "        pass\n",
    "\n",
    "    @property\n",
    "    def gears(self):\n",
    "        print(\"getter:\", self.__gears)\n",
    "        if(self.__gears > 0):\n",
    "            return self.__gears\n",
    "        else:\n",
    "            return -1\n",
    "\n",
    "    @gears.setter\n",
    "    def gears(self, newGears):\n",
    "        print(\"newGears:\", newGears)\n",
    "        if(newGears > 0): self.__gears = newGears\n",
    "\n",
    "\n",
    "vehicle1 = Vehicle()\n",
    "vehicle1.gears = 8\n",
    "print(vehicle1.gears)"
   ]
  },
  {
   "cell_type": "code",
   "execution_count": null,
   "metadata": {},
   "outputs": [],
   "source": [
    "class User:\n",
    "    def __init__(self, name):\n",
    "        self.name = name\n",
    "\n",
    "    def __str__(self):\n",
    "        return \"User: \" + self.name\n",
    "\n",
    "\n",
    "\n",
    "user1 = User(\"Ola\")\n",
    "print(user1)"
   ]
  },
  {
   "cell_type": "markdown",
   "metadata": {},
   "source": [
    "__name__ and reload()"
   ]
  },
  {
   "cell_type": "code",
   "execution_count": 2,
   "metadata": {},
   "outputs": [
    {
     "data": {
      "text/plain": [
       "<module 'random' from 'c:\\\\Users\\\\kamil\\\\AppData\\\\Local\\\\Programs\\\\Python\\\\Python311\\\\Lib\\\\random.py'>"
      ]
     },
     "execution_count": 2,
     "metadata": {},
     "output_type": "execute_result"
    }
   ],
   "source": [
    "# __name__ = returns name of the file within the code\n",
    "\n",
    "# reload - imports once again library\n",
    "\n",
    "import importlib\n",
    "import random\n",
    "importlib.reload(random)\n"
   ]
  },
  {
   "cell_type": "markdown",
   "metadata": {},
   "source": [
    "imports in __init__.py"
   ]
  },
  {
   "cell_type": "code",
   "execution_count": null,
   "metadata": {},
   "outputs": [],
   "source": [
    "from pack.functions import * # Star means everything\n",
    "from pack.book import Book"
   ]
  },
  {
   "cell_type": "markdown",
   "metadata": {},
   "source": [
    "Abstract methods"
   ]
  },
  {
   "cell_type": "code",
   "execution_count": null,
   "metadata": {},
   "outputs": [],
   "source": [
    "from abc import ABC, abstractmethod\n",
    "\n",
    "class Animal(ABC):\n",
    "    @abstractmethod # dekorator\n",
    "    def speak(self):\n",
    "        pass\n",
    "\n",
    "\n",
    "class Dog(Animal):\n",
    "    def speak(self):\n",
    "        print(\"Woof!\")\n",
    "\n",
    "class Cat(Animal):\n",
    "    def speak(self):\n",
    "        print(\"Miau!\")\n",
    "\n",
    "\n",
    "dog = Dog()\n",
    "dog.speak()\n",
    "\n",
    "cat = Cat()\n",
    "cat.speak()"
   ]
  }
 ],
 "metadata": {
  "kernelspec": {
   "display_name": "Python 3",
   "language": "python",
   "name": "python3"
  },
  "language_info": {
   "codemirror_mode": {
    "name": "ipython",
    "version": 3
   },
   "file_extension": ".py",
   "mimetype": "text/x-python",
   "name": "python",
   "nbconvert_exporter": "python",
   "pygments_lexer": "ipython3",
   "version": "3.11.4"
  },
  "orig_nbformat": 4
 },
 "nbformat": 4,
 "nbformat_minor": 2
}
