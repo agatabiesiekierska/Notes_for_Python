{
 "cells": [
  {
   "cell_type": "code",
   "execution_count": 1,
   "metadata": {},
   "outputs": [],
   "source": [
    "import numpy as np\n",
    "import sys\n",
    "\n",
    "# NumPy is a Python library.\n",
    "# NumPy is used for working with arrays.\n",
    "# NumPy is short for \"Numerical Python\""
   ]
  },
  {
   "cell_type": "markdown",
   "metadata": {},
   "source": [
    "# Class time_measure for meauring the time of codes"
   ]
  },
  {
   "cell_type": "code",
   "execution_count": 2,
   "metadata": {},
   "outputs": [],
   "source": [
    "import time\n",
    "class time_measure:\n",
    "\n",
    "    def __init__(self):\n",
    "        pass\n",
    "    \n",
    "    def __enter__(self): # starts when the user use with expression\n",
    "        print('Entering...')\n",
    "        self._start = time.time()\n",
    "        return self # returns the instation of this class\n",
    "    \n",
    "    def __exit__(self, exc_type, exc_val,exc_tb): # starts when object ends \n",
    "        try:\n",
    "            print('Exiting...')\n",
    "            self._stop = time.time()\n",
    "            self._difference = self._stop-self._start\n",
    "            print(f'Execution time: {self._difference}')\n",
    "        except:\n",
    "            print(f'Error type: {exc_type} ')\n",
    "            print(f'Error value: {exc_val} ')\n",
    "            print(f'Error traceback: {exc_tb} ')"
   ]
  },
  {
   "cell_type": "markdown",
   "metadata": {},
   "source": [
    "# The basics"
   ]
  },
  {
   "cell_type": "code",
   "execution_count": null,
   "metadata": {},
   "outputs": [],
   "source": [
    "# Numpy is multi-dimentional array library, so we can store data in arrays\n",
    "# Lists are very slow, but numpy is faster\n",
    "# 5 => 00000101 -NumPy-> int32/int16/int8\n",
    "# Lists store much more information such as size, object type, object value and refference which is memory-consuming in the end\n",
    "# NumPy objects makes Python read less bytes of memory\n",
    "# Contiguous memory in list information are scattered around the computer's memory unlike in numpy objects"
   ]
  },
  {
   "cell_type": "code",
   "execution_count": 7,
   "metadata": {},
   "outputs": [
    {
     "name": "stdout",
     "output_type": "stream",
     "text": [
      "[ True  True  True]\n"
     ]
    }
   ],
   "source": [
    "# In lists we can't make mathematical operations on them:\n",
    "\n",
    "a = [1,3,5]\n",
    "b = [2,4,6]\n",
    "\n",
    "# a*b = ERROR\n",
    "\n",
    "# In NumPy we are able to do that:\n",
    "\n",
    "a = np.array([1,3,5], dtype='int32') # one dimensional array\n",
    "b = np.array([2,4,6])\n",
    "\n",
    "c = a*b \n",
    "d = np.array([2,12,30])\n",
    "\n",
    "print(c == d)"
   ]
  },
  {
   "cell_type": "code",
   "execution_count": 18,
   "metadata": {},
   "outputs": [
    {
     "name": "stdout",
     "output_type": "stream",
     "text": [
      "1\n",
      "2\n",
      "3\n"
     ]
    }
   ],
   "source": [
    "a = np.array([1,3,5])\n",
    "b = np.array([[1,3,5],[2,4,6]])\n",
    "c = np.array([[[1.0,3.0,4.0], [2.0,5.0,9.0], [4.0,8.0,10.0]]])\n",
    "\n",
    "# ndim prints number of dimensions the array has\n",
    "print(a.ndim)\n",
    "print(b.ndim)\n",
    "print(c.ndim)\n",
    "\n",
    "# ==================================\n",
    "# np.array([]) #1\n",
    "# np.array([[]]) #2\n",
    "# np.array([[[]]]) #3"
   ]
  },
  {
   "cell_type": "code",
   "execution_count": 13,
   "metadata": {},
   "outputs": [
    {
     "name": "stdout",
     "output_type": "stream",
     "text": [
      "(3,)\n",
      "(2, 3)\n",
      "(1, 3, 3)\n"
     ]
    }
   ],
   "source": [
    "# Get Shape\n",
    "# ================= prints shape of an array\n",
    "print(a.shape) \n",
    "print(b.shape)\n",
    "print(c.shape)"
   ]
  },
  {
   "cell_type": "code",
   "execution_count": 15,
   "metadata": {},
   "outputs": [
    {
     "name": "stdout",
     "output_type": "stream",
     "text": [
      "int32\n",
      "int32\n",
      "int32\n"
     ]
    }
   ],
   "source": [
    "# Get Type\n",
    "# ================ prints types of values stored in array\n",
    "print(a.dtype)\n",
    "print(b.dtype)\n",
    "print(c.dtype)"
   ]
  },
  {
   "cell_type": "code",
   "execution_count": 19,
   "metadata": {},
   "outputs": [
    {
     "name": "stdout",
     "output_type": "stream",
     "text": [
      "4\n",
      "4\n",
      "8\n"
     ]
    }
   ],
   "source": [
    "# Get size\n",
    "# ================ prints bytes size of an objects\n",
    "print(a.itemsize)\n",
    "print(b.itemsize) # 4 bytes cause integers\n",
    "print(c.itemsize) # 8 bytes cause floats"
   ]
  },
  {
   "cell_type": "code",
   "execution_count": 20,
   "metadata": {},
   "outputs": [
    {
     "name": "stdout",
     "output_type": "stream",
     "text": [
      "12\n",
      "24\n",
      "72\n"
     ]
    }
   ],
   "source": [
    "# Get total_size\n",
    "# ================ prints bytes total size of a data stored in array\n",
    "# a.size = total number of elements\n",
    "# a.size * a.itemssize = a.nbytes\n",
    "print(a.nbytes)\n",
    "print(b.nbytes) \n",
    "print(c.nbytes)"
   ]
  }
 ],
 "metadata": {
  "kernelspec": {
   "display_name": "Python 3",
   "language": "python",
   "name": "python3"
  },
  "language_info": {
   "codemirror_mode": {
    "name": "ipython",
    "version": 3
   },
   "file_extension": ".py",
   "mimetype": "text/x-python",
   "name": "python",
   "nbconvert_exporter": "python",
   "pygments_lexer": "ipython3",
   "version": "3.11.4"
  }
 },
 "nbformat": 4,
 "nbformat_minor": 2
}
