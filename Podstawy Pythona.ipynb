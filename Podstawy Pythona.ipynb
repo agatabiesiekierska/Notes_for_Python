{
 "cells": [
  {
   "attachments": {},
   "cell_type": "markdown",
   "metadata": {},
   "source": [
    "Text and Strings \n"
   ]
  },
  {
   "attachments": {},
   "cell_type": "markdown",
   "metadata": {
    "vscode": {
     "languageId": "python"
    }
   },
   "source": [
    "Napisem nazywamy wszystko co jest w apostrofach lub mają typ zmiennej str"
   ]
  },
  {
   "cell_type": "code",
   "execution_count": null,
   "metadata": {},
   "outputs": [],
   "source": [
    "# Variables in Python:\n",
    "# Variable is something, that can store data each one represent different type of data\n",
    "\n",
    "variable = str('Example sentence') #string for words and sentences\n",
    "#all strings are being written in single or double quotes ('') or (\"\") with the same result\n",
    "\n",
    "print('It\\'s super effective') # \\ to tell python to escape the next sign\n",
    "# We can do many operations on strings. Some of them are:\n",
    "# Change the first characters in words to BIG letters:\n",
    "name = str(input('Tell us your name: ')) #without str python interpretes input as string. In order to interprete numbers we have to transform the input\n",
    "# name.title() == changes the first characters for big letters\n",
    "print(name.title())\n",
    "print(name.upper()) #all capital letters\n",
    "print(name.lower()) #all letters small\n",
    "\n",
    "# you can glue together 2 and more string:\n",
    "print('Hello'+' '+name.title()) # method with \"+\" works only for strings variables\n",
    "about:blank#blocked\n",
    "# \\t stands for tab in output\n",
    "print('\\tHello'+' '+name.title())\n",
    "# \\n moves your text into new line\n",
    "print('\\nHello'+' '+name.title())\n",
    "# we can combine it"
   ]
  },
  {
   "attachments": {},
   "cell_type": "markdown",
   "metadata": {},
   "source": [
    "Częstym problemem w ciągach napisowych jest wyświetlanie spacji i białych znaków. Python może je usunąć stosując metodę strip(), która obcina białe znaki z obu końców wyrażenia oraz lstrip() i rstrip(), która obcina odpowiednio z lewej i prawej strony\n"
   ]
  },
  {
   "cell_type": "code",
   "execution_count": null,
   "metadata": {},
   "outputs": [],
   "source": [
    "sentence = input('Write sentence: ')\n",
    "print(len(sentence)) #len(zmienna) - sends information about the length of the string\n",
    "print(len(sentence.rstrip())) # cuts white signs at the end of the sentence"
   ]
  },
  {
   "attachments": {},
   "cell_type": "markdown",
   "metadata": {},
   "source": [
    "czyli Python obcina białe znaki na końcu wyrażenia! (można zaimplementować przy grach słownych!)\n",
    "istotne przy obróbce danych wejściowych do przechowywania w programie"
   ]
  },
  {
   "cell_type": "code",
   "execution_count": null,
   "metadata": {},
   "outputs": [],
   "source": [
    "name=input('Tell us your name: ')\n",
    "name=name.title() # the first letters of each word are capital\n",
    "name=name.strip()\n",
    "table=[]\n",
    "table.append(name)\n",
    "print(table)"
   ]
  },
  {
   "cell_type": "code",
   "execution_count": null,
   "metadata": {},
   "outputs": [],
   "source": [
    "# Functions in strings\n",
    "\n",
    "print('Hello'*2)\n",
    "string = 'Basics of Python'\n",
    "\n",
    "print(string[1])\n",
    "print(string[1:3])\n",
    "print('o' in string)\n",
    "print('P' not in string)\n",
    "\n",
    "print('some text'.capitalize()) # Big Letters at the beginning\n",
    "print(string.count('Python')) # counting a number of signs\n",
    "print('test'.center(25,'='))\n",
    "print('Hello World'.endswith('world')) #True\n",
    "print('Hello World'.startswith('Hel')) #True\n",
    "\n",
    "print('Allie is beautifull'.find('is'))\n",
    "print('Allie is beautifull'.find('test'))\n",
    "\n",
    "print('Allie is beautifull. Allie is good.'.rfind('Allie')) # reverse finding\n",
    "\n",
    "print('Allie is beautifull. Allie is good.'.replace('Allie', 'Becky'))\n",
    "\n",
    "print('1256346'.isalnum()) # True if string is a total number\n",
    "print('1256346'.isalpha()) # False if we haven't letters\n",
    "\n",
    "print('test'.islower()) # true, small letters\n",
    "print(' \\t'.isspace()) # true, only white signs\n",
    "print('HELL'.isupper()) # true, only big letters\n",
    "\n",
    "# joins dwo strings with separator\n",
    "print('-'.join(['Alex','Annie']))\n",
    "print(len('str length')) # 10\n",
    "print('HELLO world'.lower()) # hello world\n",
    "print('HELLO world'.upper()) # HELLO WORLD\n",
    "print('HELLO world'.swapcase()) # hello WORLD\n",
    "      "
   ]
  },
  {
   "cell_type": "code",
   "execution_count": null,
   "metadata": {},
   "outputs": [],
   "source": [
    "print('My name is {name}. I\\'m from {country}.'.format(name = 'Jessie', country = 'USA'))\n",
    "print('My name is {0}. I\\'m from {1}.'.format('Jessie','USA'))\n",
    "print('My name is {}. I\\'m from {}.'.format('Jessie','USA'))"
   ]
  },
  {
   "attachments": {},
   "cell_type": "markdown",
   "metadata": {},
   "source": [
    "Ćwiczenie: Cytat sławnej osoby\n",
    "\n",
    "Albert Einstein powiedział kiedyś: \"Osoba, która nigdy nie popełniła błędu, jest kimś, kto nigdy nie próbował niczego nowego\".\n",
    "\n",
    "Napisz program, który wczyta podane przez użytkownika autora i cytat w formacie (autor;cytat), a następnie wyświetli je w formacie jak powyżej "
   ]
  },
  {
   "cell_type": "code",
   "execution_count": null,
   "metadata": {},
   "outputs": [],
   "source": [
    "#program do cytatów\n",
    "\n",
    "dane = input('Podaj autora i cytat [autor;cytat]: ') #wczytanie danych\n",
    "table = []                                              #uworzenie pustej tabeli\n",
    "table = dane.split(';')                             #rozdział autora i cytatu i zapisanie tego w osobnych komórkach tabeli\n",
    "print(table[0].title().strip() + ' powiedział kiedyś: '+'\"'+table[1].strip()+'\"') #wydrukowanie napisu, usunięcie białych znaków na końcach i duże litery w imieniu i nazwisku autora"
   ]
  },
  {
   "attachments": {},
   "cell_type": "markdown",
   "metadata": {},
   "source": [
    "Types of values that we store in variables\n"
   ]
  },
  {
   "cell_type": "code",
   "execution_count": null,
   "metadata": {},
   "outputs": [],
   "source": [
    "# Types of values int and float\n",
    "a = 10 # int, for total numbers\n",
    "b = 12.45 # float, for fractional\n",
    "\n",
    "# function type() - gives information about the type of out variable\n",
    "print(type(a)) # <class 'int'>\n",
    "\n",
    "sum = a + b +10\n",
    "print(sum)"
   ]
  },
  {
   "attachments": {},
   "cell_type": "markdown",
   "metadata": {},
   "source": [
    "Types of variables in Python - string and int"
   ]
  },
  {
   "cell_type": "code",
   "execution_count": null,
   "metadata": {},
   "outputs": [],
   "source": [
    "# Variables in Python are like a cell in table with specific information\n",
    "# Name (id of variable) - shouldn't have spacebar or special signs and it mustn't start with a number. Is specific identity to that information\n",
    "# = assignment operator\n",
    "# if variable have more than one word it should have tzw. camelCase\n",
    "\n",
    "name = \"May\" # text variable - string (str) is not subject to mathematical operations\n",
    "surname = \"Smith\"\n",
    "age = 25 # variable int (number) - we can make math operations \n",
    "salary = 12000\n",
    "email = name.lower() + surname.lower() + \"@gmail.com\" # function .lower() changes all letters to small \n",
    "welcomeBonus = salary * 1.5 + salary  # 30000.0 \n",
    "print(email)\n",
    "print(welcomeBonus)"
   ]
  },
  {
   "cell_type": "code",
   "execution_count": null,
   "metadata": {},
   "outputs": [],
   "source": [
    "# type string \n",
    "str = 'I like cheese'\n",
    "print(str)\n",
    "print(type(str))\n",
    "print(len(str))\n",
    "print(str[1])\n",
    "print(len(str)-1)\n",
    "subString= str[0:5]\n",
    "print(subString)\n",
    "strx4=subString*4\n",
    "print(strx4)\n",
    "otherStr= str + \" and peperoni!\"\n",
    "print(otherStr)\n",
    "print(otherStr[7:])\n",
    "print(otherStr[::2])\n",
    "print(otherStr[::3])\n",
    "userName = input('Write your name: ')\n",
    "print('Your name is: ', userName)\n",
    "txt2 = 'syntax \\n error'\n",
    "print(txt2)"
   ]
  },
  {
   "attachments": {},
   "cell_type": "markdown",
   "metadata": {},
   "source": [
    "Types of variables = boolean"
   ]
  },
  {
   "cell_type": "code",
   "execution_count": null,
   "metadata": {},
   "outputs": [],
   "source": [
    "# Typ boolean, so logical value:\n",
    "\n",
    "trueValue = True\n",
    "falseValue = False\n",
    "\n",
    "print (type(trueValue))\n",
    "result = 10>4\n",
    "print(result)\n",
    "print (23<15)\n",
    "\n",
    "myNum = 14\n",
    "if myNum > 5:\n",
    "    print('Wartosc',myNum,'większa od 5')\n",
    "\n",
    "print ('Koniec')"
   ]
  },
  {
   "attachments": {},
   "cell_type": "markdown",
   "metadata": {},
   "source": [
    "Lists and Tuples\n"
   ]
  },
  {
   "cell_type": "code",
   "execution_count": null,
   "metadata": {},
   "outputs": [],
   "source": [
    "brands = ['Sony','Dodge','Ford','Citroen','Kuga']\n",
    "print(type(brands))\n",
    "print(brands[0:5:2]) # We start from the first posision end at the fifth (it's like the open intervals) and we display every second item.\n",
    "# slice operator ! \n",
    "print(brands[-1]) # We display values from the end\n",
    "print(brands[-3]) # the third value from the end (Ford)\n",
    "\n",
    "brands.append('BMW') # Adding new value at the end of the list\n",
    "print(brands)\n",
    "brands.insert(0,'BMW') # Adding new value in specific place\n",
    "\n",
    "print('BMW' in brands) #TRUE\n",
    "print('Audi'in brands) #FALSE\n",
    "\n",
    "if 'BMW' in brands:\n",
    "    print('BMW jest w liście')\n",
    "\n",
    "del brands[0] # Delete this index\n",
    "print(brands)"
   ]
  },
  {
   "cell_type": "code",
   "execution_count": null,
   "metadata": {},
   "outputs": [],
   "source": [
    "# Tuple is something like lists, but you can't modify the values. It works perfectly when you have to save data from user \n",
    "# We can make tuple by making variable with round brackets\n",
    "\n",
    "tuple_1 = ('one', 'two', 'three')\n",
    "print(tuple_1,type(tuple_1))\n",
    "\n",
    "tuple_2 = ('one',) # when we have only ine element we have to add this comma to differentiate between tuple and string\n",
    "\n",
    "tuple_3 = 'one', 'two', 'three' # tuple works even without the brackets\n",
    "\n",
    "emptyTuple = () # empty tuple must have brackets (but for what reason do I need empty tuple)\n",
    "\n",
    "print(tuple_1[2]) # tuple works like lists exactly\n",
    "\n",
    "# we can also nest the tuples:\n",
    "\n",
    "nestedTuple = ((1,2,3), tuple_1, tuple_2, tuple_3[1])\n",
    "print(nestedTuple)\n",
    "print(nestedTuple[0][1]) # We adress this command to the second place in the first tuple"
   ]
  },
  {
   "cell_type": "code",
   "execution_count": null,
   "metadata": {},
   "outputs": [],
   "source": [
    "#You cannot change values in tuples but you can merge them:\n",
    "mergedTuple = tuple_1 + tuple_2\n",
    "print(mergedTuple)\n",
    "\n",
    "# In operator lets you check, if specific value is in the Tuple\n",
    "# It also works in loop for in:\n",
    "print(20 in (10,20,30)) # True\n",
    "\n",
    "for i in (100,200,300):\n",
    "    print(i)\n",
    "\n",
    "# Tuple can be deleted (but we can't delete specific value in tuple):\n",
    "numTuple = (11,52,23,45)\n",
    "del numTuple\n",
    "\n",
    "# You can create tuple by Construstor which is a function, that initialize an object\n",
    "names = tuple(('Jack','Rose','Oliver')) # you define the object type (str, int,float etc.)\n",
    "print(names,type(names))\n",
    "\n",
    "# Values of the tuple can be repetead:\n",
    "print(names * 4)"
   ]
  },
  {
   "attachments": {},
   "cell_type": "markdown",
   "metadata": {},
   "source": [
    "Dictionary (słownik)"
   ]
  },
  {
   "cell_type": "code",
   "execution_count": null,
   "metadata": {},
   "outputs": [],
   "source": [
    "# Dictionary - set of keys and values. The keys must be specific. There are used for download the values.\n",
    "# The elements in dictionary don't have specific order unlike in lists\n",
    "\n",
    "contacts = {\n",
    "    'Adam' : 'adam@gmail.com',\n",
    "    'Oliver' : 'oliver@gmail.com',\n",
    "    'Rose' : 'rose@gmail.com',\n",
    "    'Mary' : 'mary@gmail.com',\n",
    "    }\n",
    "\n",
    "contacts['Dave'] = 'dave@gmail.com'\n",
    "\n",
    "print(len(contacts))\n",
    "print(contacts['Mary'],contacts['Adam'])\n",
    "print(contacts.keys()) # displays keys, that are accessible\n",
    "print(contacts.values()) # display values, that are accessible"
   ]
  },
  {
   "cell_type": "code",
   "execution_count": null,
   "metadata": {},
   "outputs": [],
   "source": [
    "#Example\n",
    "\n",
    "bestComputerByYear = {\n",
    "    2001: 'Sony',\n",
    "    2002: 'IBM',\n",
    "    2003: 'Lenovo',\n",
    "    2004: 'Acer',\n",
    "    2005: 'Toshiba',\n",
    "    2006: 'Sony'\n",
    "}\n",
    "bestComputerByYear[2007] = 'Microsoft'\n",
    "print(bestComputerByYear)\n",
    "print(bestComputerByYear[2001]) #Sony\n",
    "print(type(bestComputerByYear)) # <class 'dict'>\n",
    "print(len(bestComputerByYear)) # 7\n",
    "\n",
    "print(bestComputerByYear.keys())\n",
    "print(bestComputerByYear.values())\n",
    "\n",
    "for i in bestComputerByYear.keys():\n",
    "    print('Key: ', i,' ','Value: ', bestComputerByYear[i])\n",
    "\n",
    "for i,j in bestComputerByYear.items():  # This is worth remember, cause you can do 1 loop instead of 2 or 1 nested.\n",
    "    print('Key: ', i,' ','Value: ', j)"
   ]
  },
  {
   "cell_type": "code",
   "execution_count": null,
   "metadata": {},
   "outputs": [],
   "source": [
    "# another one example of using dictionary\n",
    "config = {\n",
    "    'website' : 'example.com',\n",
    "    'dbType' : 'sql',\n",
    "    'dbUser' : 'admin123',\n",
    "    'dbPassword' : 'pass123',\n",
    "}\n",
    "\n",
    "print('Number of elements: ', len(config),'\\nValue of dbType: ',config['dbType'])\n",
    "\n",
    "#for i,j in config.keys():\n",
    "#    print('Key in config:',i,';','Value: ',config[i])\n",
    "\n",
    "for i,j in config.items():\n",
    "    print('Key in config:',i,';','Value: ',j)\n"
   ]
  },
  {
   "attachments": {},
   "cell_type": "markdown",
   "metadata": {},
   "source": [
    "Conversion of variables\n"
   ]
  },
  {
   "cell_type": "code",
   "execution_count": null,
   "metadata": {},
   "outputs": [],
   "source": [
    "# In some cases you might need to converse your type of variable (for example from string to float). To do this you have to imp;ement special functions\n",
    "# like int() for total numbers or float for floating point, or str() for string\n",
    "\n",
    "float_num = 12.3\n",
    "print(type(float_num))\n",
    "\n",
    "int_num = int(float_num)\n",
    "print(int_num)\n",
    "print(type(int_num))\n",
    "\n",
    "x = int (5)\n",
    "y = int ('32') #conversion str to int\n",
    "print(type(y))\n",
    "\n",
    "floatNum = float ('76.789') # decimal side in str have to be after dot not comma!\n",
    "\n",
    "str1 = str (int_num) #conversion int for string\n",
    "str2 = str (45.456)\n",
    "print(str1,str2)\n",
    "print(type(str1),type(str2))\n",
    "\n",
    "print('Year has ' + str(365) + 'days.')\n",
    "\n",
    "# print('Year has ' + 365 + 'days.') ERROR: cause we can only concatenate str (not int) to str"
   ]
  },
  {
   "attachments": {},
   "cell_type": "markdown",
   "metadata": {},
   "source": [
    "Exercise"
   ]
  },
  {
   "cell_type": "code",
   "execution_count": null,
   "metadata": {},
   "outputs": [],
   "source": [
    "floatNumber = 47.25346253\n",
    "intNumber = int(floatNumber)\n",
    "print(type(intNumber))\n",
    "print(intNumber)\n",
    "\n",
    "float2 = float(12345)\n",
    "print(type(float2))\n",
    "print(float2)\n",
    "\n",
    "int2 = int(' 567 ')\n",
    "print(type(int2))\n",
    "\n",
    "float3 = float(' 567.5465 ')\n",
    "print(type(float3))\n",
    "print(float3)\n",
    "\n",
    "print('Number int is: '+ str(int2))\n",
    "print('Number float is: ' + str(float3))\n",
    "# print('Number float is: ',float3) nie wymaga konwersji na str()"
   ]
  },
  {
   "attachments": {},
   "cell_type": "markdown",
   "metadata": {},
   "source": [
    "Conversion with tuples and lists and dictionaries"
   ]
  },
  {
   "cell_type": "code",
   "execution_count": null,
   "metadata": {},
   "outputs": [],
   "source": [
    "# Conversion from list to tuple\n",
    "\n",
    "listData = [1,2,3,4]\n",
    "tupleData = tuple(listData)\n",
    "print(type(tupleData)) # <class 'tuple'>\n",
    "\n",
    "# Conversion from tuple to list\n",
    "\n",
    "tupleData2 = ('Jack','Rosemary')\n",
    "listData2 = list(tupleData2)\n",
    "print(type(tupleData)) # <class 'tuple'>\n",
    "\n",
    "# Conversion from list to set()\n",
    "\n",
    "numList = [4,6,8,4,6,10,12,14]\n",
    "uniqueSet = set(numList)\n",
    "print(type(uniqueSet)) # <class 'set'>\n",
    "print(uniqueSet)\n",
    "\n",
    "immutableSet = frozenset(numList) # List to frozenset\n",
    "print(type(immutableSet))\n",
    "\n",
    "# Conversion from tuples do dict:\n",
    "\n",
    "contactTuples = (('Bob','bob@sample.com'),('Eva','eva@sample.com'))\n",
    "contactDict = dict(contactTuples) # tuples to dict\n",
    "print(type(contactDict)) # <class 'dict'>\n",
    "print(contactDict) # {'Bob': 'bob@sample.com', 'Eva': 'eva@sample.com'}\n",
    "print(contactDict['Bob']) # bob@sample.com"
   ]
  },
  {
   "attachments": {},
   "cell_type": "markdown",
   "metadata": {},
   "source": [
    "Boolean conversion"
   ]
  },
  {
   "cell_type": "code",
   "execution_count": null,
   "metadata": {},
   "outputs": [],
   "source": [
    "# bool() function can convert values to logical value True or False.\n",
    "# There are several objects that change value to False \"Falsy\" values\n",
    "print(bool()) # empty bracket return False\n",
    "print(bool(False)) # False\n",
    "print(bool(0)) # False\n",
    "print(bool(0.0)) # False\n",
    "print(bool(())) # empty tuples returns false\n",
    "print(bool([])) # empty lists returns false\n",
    "print(bool({})) # empty sets returns false\n",
    "print(bool('')) # empty strings returns false\n",
    "print(bool(None)) # no assigned value ===> False\n",
    "\n",
    "# Also there are several objects that change value to True \n",
    "print(bool(True)) #True\n",
    "print(bool(1)) #True\n",
    "print(bool(5)) #True\n",
    "print(bool(-10)) #True\n",
    "print(bool(('Alex',1))) #True tuple with at least 1 element\n",
    "print(bool([0])) #True list with at least 1 element\n",
    "print(bool({0})) #True set with at least 1 element\n",
    "print(bool('x')) #True string with at least 1 element"
   ]
  },
  {
   "attachments": {},
   "cell_type": "markdown",
   "metadata": {},
   "source": [
    "None type"
   ]
  },
  {
   "cell_type": "code",
   "execution_count": null,
   "metadata": {},
   "outputs": [],
   "source": [
    "# None type means value that hasn't have specific value (it can be something like null in C++ for example).\n",
    "\n",
    "data = None\n",
    "\n",
    "print(type(data)) # <class 'NoneType'>\n",
    "\n",
    "if data is True:\n",
    "    print('Data has value True')\n",
    "elif data is False:                 # else if\n",
    "    print('Data has value False')\n",
    "else: \n",
    "    print('NONE is NONE')"
   ]
  },
  {
   "attachments": {},
   "cell_type": "markdown",
   "metadata": {},
   "source": [
    "mutability and immutability [mutowalność i niemutowalność]"
   ]
  },
  {
   "cell_type": "code",
   "execution_count": null,
   "metadata": {},
   "outputs": [],
   "source": [
    "# We can divide the types of data to two groups:\n",
    "# Mutable, we can change the value\n",
    "# Immutable, we cannot change the value\n",
    "# id() is a function that returns specific id for every object. \n",
    "# In reality it's a total number, which represents the place in memory where the system stores the value.\n",
    "# Remember that everything in Python is an object which means that has functions (methods), that allows us to work more effectively.\n",
    "\n",
    "a = 10\n",
    "b = 20\n",
    "print(id(a))\n",
    "print(id(b))\n",
    "print(id(a) == id(b)) # False\n",
    "\n",
    "# Example\n",
    "# Shows immutability of total numbers, simmilar with decimal numbers, boolean variables, strings, tuples and frozensets. \n",
    "# We can't change the value, so we get new id(), basically everytime we create those variables. Modyfication of a gives new id() number.\n",
    "a = 1 \n",
    "addr1 = id(a)\n",
    "a += 1 # adds 1 to value a\n",
    "addr2 = id(a)\n",
    "print(addr1)\n",
    "print(addr2)\n",
    "print(addr1==addr2) #False\n",
    "# Output:\n",
    "# 140705030857512\n",
    "# 140705030857544\n",
    "# False\n",
    "\n",
    "# So attemption to change the object, creates new object in memory!\n",
    "\n",
    "listData = ['2','4']\n",
    "addr3 = id(listData)\n",
    "\n",
    "listData.append(['6','8'])\n",
    "addr4 = id(listData)\n",
    "print(addr3)\n",
    "print(addr4)\n",
    "print(addr3==addr4) #True \n",
    "\n",
    "# In this case the object is mutable, so it's id() remains the same (works in lists, sets and dicts)!\n",
    "\n",
    "# immutable == int, float, bool, str, tuple, frozenset\n",
    "# mutable == list, set, dict"
   ]
  },
  {
   "attachments": {},
   "cell_type": "markdown",
   "metadata": {},
   "source": [
    "Operators (math)"
   ]
  },
  {
   "cell_type": "code",
   "execution_count": null,
   "metadata": {},
   "outputs": [],
   "source": [
    "# Arythmetic operators -> allows us to perform mathematical equations and calculates values.\n",
    "a = 10\n",
    "b = 6\n",
    "\n",
    "x1 = a+b  # 16\n",
    "x2 = a-b  # 4\n",
    "x3 = a*b  # 60\n",
    "x4 = a/b  # 1.66\n",
    "x5 = a%b  # modulo (the rest of the division)\n",
    "x6 = a**b # power (it is also possible to do pow() function, requires import math)\n",
    "x7 = a//b # floor division (gives only total number)\n",
    "\n",
    "# Assignment operators (=) -> allow to save data into variable\n",
    "numA=8\n",
    "numB=5\n",
    "numA += 3  # 11\n",
    "numA -= 2  # 9\n",
    "numA *= 4  # 36\n",
    "numA %= 7  # 1\n",
    "numA **= 3 # 1 (1^3)\n",
    "numA //= 2 # 0"
   ]
  },
  {
   "attachments": {},
   "cell_type": "markdown",
   "metadata": {},
   "source": [
    "Example:"
   ]
  },
  {
   "cell_type": "code",
   "execution_count": null,
   "metadata": {},
   "outputs": [],
   "source": [
    "# Operations on bank account, display every value: \n",
    "\n",
    "dict = {}\n",
    "\n",
    "accountBalance = 1400\n",
    "dict ['initial'] = accountBalance\n",
    "accountBalance+=7000\n",
    "dict ['after paycheck'] = accountBalance\n",
    "accountBalance-=2300\n",
    "dict ['minus flat'] = accountBalance\n",
    "accountBalance*=4\n",
    "dict ['after bank error'] = accountBalance\n",
    "accountBalance-=4000\n",
    "dict ['minus car'] = accountBalance\n",
    "\n",
    "accountBalance = ((accountBalance+4000)/4)-4000\n",
    "\n",
    "dict ['with no error'] = accountBalance\n",
    "\n",
    "for i in dict.keys():\n",
    "    print('Your account balance',i,':',dict[i])"
   ]
  },
  {
   "attachments": {},
   "cell_type": "markdown",
   "metadata": {},
   "source": [
    "Operators (comparison)"
   ]
  },
  {
   "cell_type": "code",
   "execution_count": null,
   "metadata": {},
   "outputs": [],
   "source": [
    "# Comparison operators \n",
    "# They compare two values and return value True or False, if the condition is true\n",
    "\n",
    "result = 7 == 5 #comparison operator, checks if two values are the same\n",
    "print(12 == 12) #True\n",
    "print(12 != 9) #True\n",
    "print(6>2) #True\n",
    "print(6>10) #False\n",
    "print(3<8) # True\n",
    "print(15 >= 15) #True\n",
    "print(16 >= 15) #True\n",
    "print(4 <= 2) #False\n",
    "\n",
    "# Example:\n",
    "year = 2001\n",
    "\n",
    "if year>1999:\n",
    "    print('True')\n",
    "\n",
    "if year <= 2010:\n",
    "    print('True')"
   ]
  },
  {
   "attachments": {},
   "cell_type": "markdown",
   "metadata": {},
   "source": [
    "Operators (logical)"
   ]
  },
  {
   "cell_type": "code",
   "execution_count": null,
   "metadata": {},
   "outputs": [],
   "source": [
    "# Logical operators:\n",
    "# They allow us to apply multiple comparisons in order to achieve the result (True or False)\n",
    "# AND == it gives true when both conditions are true\n",
    "\n",
    "print(True and True)\n",
    "print(True and False)\n",
    "print(False and False)\n",
    "\n",
    "print(17>9 and 4==4) # True\n",
    "print(17==14 and 4>1) # False\n",
    "print(17==14 and 4<1) # False\n",
    "\n",
    "if 7 == 7 and 15>11:\n",
    "    print('True')\n",
    "\n",
    "# OR == it gives true if one of the conditions is true\n",
    "\n",
    "print(True or True) # True\n",
    "print(True or False) # True\n",
    "print(False or False) # False\n",
    "\n",
    "print(17>9 or 4==4) # True\n",
    "print(17==14 or 4>1) # True\n",
    "print(17==14 or 4<1) # False\n",
    "\n",
    "# NOT == reverse logical value\n",
    "\n",
    "print(not True) # True\n",
    "print(not False) # False\n",
    "\n",
    "print(not(4==4)) # False\n",
    "print(not(17==14)) # True\n",
    "\n",
    "taskCompleted = False\n",
    "if not taskCompleted:\n",
    "    print('Task not completed!')"
   ]
  },
  {
   "attachments": {},
   "cell_type": "markdown",
   "metadata": {},
   "source": [
    "Operators (membership operators)"
   ]
  },
  {
   "cell_type": "code",
   "execution_count": null,
   "metadata": {},
   "outputs": [],
   "source": [
    "# Membership operators - allows you to check if specific value is in your dataset, returns false value if there isn't any.\n",
    "\n",
    "numberData = [11,12,13,14,15,16]\n",
    "\n",
    "# Returns the element if it is on the list\n",
    "print(10 in numberData) # False\n",
    "print(13 in numberData) # True\n",
    "\n",
    "print('Eva' in ('Jack', 'Eva','John')) # True\n",
    "\n",
    "# Not in - returns true if there isn't this value in dataset\n",
    "\n",
    "print(22 not in numberData) # True\n",
    "print(12 not in numberData) # False"
   ]
  },
  {
   "attachments": {},
   "cell_type": "markdown",
   "metadata": {},
   "source": [
    "Operators (identity operators)"
   ]
  },
  {
   "cell_type": "code",
   "execution_count": null,
   "metadata": {},
   "outputs": [],
   "source": [
    "# Identity operators -> compares the memory location pointed to by the operands\n",
    "# Is => if both operands has the same memory location, returns True\n",
    "# Is not => if both operands has different memory location, returns True\n",
    "\n",
    "a = [1,2,3,4,5]\n",
    "b = [1,2,3,4,5]\n",
    "\n",
    "print(a is a) #True\n",
    "print(b is b) #True\n",
    "print(a is b) #False\n",
    "\n",
    "print(a is not b) #True\n",
    "print(a is not a) #False"
   ]
  },
  {
   "attachments": {},
   "cell_type": "markdown",
   "metadata": {},
   "source": [
    "IMPORTANT: how to check methods in specyfic object? (jakie funcje dostępne są na danym typie danych)"
   ]
  },
  {
   "cell_type": "code",
   "execution_count": null,
   "metadata": {},
   "outputs": [],
   "source": [
    "list = [1,2,3]\n",
    "print(dir(list)) # shows every method in this object"
   ]
  },
  {
   "attachments": {},
   "cell_type": "markdown",
   "metadata": {},
   "source": [
    "If statement"
   ]
  },
  {
   "cell_type": "code",
   "execution_count": null,
   "metadata": {},
   "outputs": [],
   "source": [
    "#Python supports the usual logical conditions from mathematics:\n",
    "\n",
    "#Equals: a == b\n",
    "#Not Equals: a != b\n",
    "#Less than: a < b\n",
    "#Less than or equal to: a <= b\n",
    "#Greater than: a > b\n",
    "#Greater than or equal to: a >= b\n",
    "#These conditions can be used in several ways, most commonly in \"if statements\" and loops.\n",
    "#An \"if statement\" is written by using the if keyword.\n",
    "\n",
    "x = 15\n",
    "\n",
    "if x != 20:\n",
    "    print('15 isn\\'t > than 20')\n",
    "\n",
    "# we can also nest if statements:\n",
    "\n",
    "v=18\n",
    "\n",
    "if v>7:\n",
    "    print(str(v) + ' higher than 7')\n",
    "    if v >= 15:\n",
    "        print(str(v) + ' higher than 15')\n",
    "        if v>30:\n",
    "            print(str(v) + ' higher than 30')\n",
    "\n"
   ]
  },
  {
   "cell_type": "code",
   "execution_count": null,
   "metadata": {},
   "outputs": [],
   "source": [
    "# Create variable age = 28 and weight = 75\n",
    "# Check if candidate is an adult, if yes check if his weight is more or equal 50. If yes, display in consol, that he is able to donate blood.\n",
    "# If not, display why\n",
    "data = []\n",
    "data = input('Type your age and weight(age;weight): ')\n",
    "data = data.split(';')\n",
    "\n",
    "if int(data[0]) >= 18:\n",
    "    if int(data[1]) >= 50:\n",
    "        print('You are able to donate blood.')\n",
    "    else:\n",
    "        print('You can\\'t donate blood. You weight too less.')\n",
    "else:\n",
    "    print('You can\\'t donate blood, you aren\\'t adult')"
   ]
  },
  {
   "attachments": {},
   "cell_type": "markdown",
   "metadata": {},
   "source": [
    "if else - shortened version"
   ]
  },
  {
   "cell_type": "code",
   "execution_count": null,
   "metadata": {},
   "outputs": [],
   "source": [
    "if data:\n",
    "    print('Data is True') # preferowany sposób, wykonuje się jak jest True\n",
    "\n",
    "if not data:\n",
    "    print('Data is False') "
   ]
  },
  {
   "attachments": {},
   "cell_type": "markdown",
   "metadata": {},
   "source": [
    "Switch case"
   ]
  },
  {
   "cell_type": "code",
   "execution_count": null,
   "metadata": {},
   "outputs": [],
   "source": [
    "# Switch Case Statement in Python\n",
    "# A switch statement is a multiway branch statement that compares the value of a variable to the values specified in case statements.\n",
    "# Python language doesn’t have a switch statement.\n",
    "# Python uses dictionary mapping to implement Switch Case in Python\n",
    "\n",
    "def SwitchExample(argument):\n",
    "    switcher = {\n",
    "        0: \" This is Case Zero \",\n",
    "        1: \" This is Case One \",\n",
    "        2: \" This is Case Two \",\n",
    "    }\n",
    "    return switcher.get(argument, \"nothing\") # get function returns the specific case if argument isn't in dict, then return \"nothing\"\n",
    "\n",
    "\n",
    "if __name__ == \"__main__\": # what does ir mean? Probably something like 0 == 0\n",
    "    argument = 1 # This is Case One\n",
    "    print (SwitchExample(argument))"
   ]
  },
  {
   "cell_type": "code",
   "execution_count": null,
   "metadata": {},
   "outputs": [],
   "source": [
    "# Also it is possible to use match function. It is something very simmilar to switch\n",
    "command = 'Hello, World!'\n",
    "match command:\n",
    "    case 'Hello, World!':\n",
    "         print('Hello to you too!')\n",
    "    case 'Goodbye, World!':\n",
    "         print('See you later')\n",
    "    case other:\n",
    "         print('No match found')"
   ]
  },
  {
   "attachments": {},
   "cell_type": "markdown",
   "metadata": {},
   "source": [
    "While loop"
   ]
  },
  {
   "cell_type": "code",
   "execution_count": null,
   "metadata": {},
   "outputs": [],
   "source": [
    "# With the while loop we can execute a set of statements as long as a condition is true.\n",
    "\n",
    "num = 10\n",
    "while num>0:\n",
    "    print('Yikes!')\n",
    "    num-=1"
   ]
  },
  {
   "cell_type": "code",
   "execution_count": null,
   "metadata": {},
   "outputs": [],
   "source": [
    "# We can also create infinite loop, but it's dangerous for the computer, so we have to use break instruction\n",
    "good = 0\n",
    "realNames = {'The Hound', 'Meryn Tyrant', 'Joffrey Baratheon','Melisandre','Thoros','Cersei Lannister','Ser Ilyn Payne','Polliver','The Mountain',\n",
    "             'Rorge','Walder Fray','Tywin Lannister','Beric Dondarrion'}\n",
    "data = []\n",
    "while True:\n",
    "    name = str(input('Type the names of people Arya were going to kill (type enter if you\\'re out of ideas): '))\n",
    "    data.append(name.title().strip()) \n",
    "    if len(data)==13 or name == '': \n",
    "        break\n",
    "for i in data:\n",
    "    if i in realNames:\n",
    "        good+=1\n",
    "    else:\n",
    "        print('The name',i,'is not on the list!')\n",
    "print('You guessed ' + str(good) + ' names out of 13' )"
   ]
  },
  {
   "attachments": {},
   "cell_type": "markdown",
   "metadata": {},
   "source": [
    "For loop"
   ]
  },
  {
   "cell_type": "code",
   "execution_count": null,
   "metadata": {},
   "outputs": [],
   "source": [
    "# A for loop is used for iterating over a sequence (that is either a list, a tuple, a dictionary, a set, or a string).\n",
    "# This is less like the for keyword in other programming languages, and works more like an iterator method as found in other object-orientated programming languages.\n",
    "# With the for loop we can execute a set of statements, once for each item in a list, tuple, set etc.\n",
    "\n",
    "fruits = [\"apple\", \"banana\", \"cherry\"]\n",
    "for x in fruits:\n",
    "  print(x)\n",
    "\n",
    "# With the break statement we can stop the loop before it has looped through all the items:\n",
    "fruits = [\"apple\", \"banana\", \"cherry\"]\n",
    "for x in fruits:\n",
    "  print(x)\n",
    "  if x == \"banana\":\n",
    "    break\n",
    "# The else keyword in a for loop specifies a block of code to be executed when the loop is finished:\n",
    "for x in range(6):\n",
    "  print(x)\n",
    "else:\n",
    "  print(\"Finally finished!\")\n",
    "\n",
    "#If the loop breaks, the else block is not executed.\n",
    "for x in range(6):\n",
    "  if x == 3: break\n",
    "  print(x)\n",
    "else:\n",
    "  print(\"Finally finished!\")\n",
    "# To loop through a set of code a specified number of times, we can use the range() function,\n",
    "# The range() function returns a sequence of numbers, starting from 0 by default, and increments by 1 (by default), and ends at a specified number.\n",
    "# It is also possible to do this:\n",
    "for i in [1,2,3,4]:\n",
    "  print(i*4)\n",
    "else:\n",
    "  print('The end of for loop!')\n",
    "\n",
    "# ====== Example =======\n",
    "\n",
    "numList = [-3,-2,-1,0,1,2,3,4,5]\n",
    "set = {-2}\n",
    "\n",
    "for i in numList:\n",
    "  if i%2 !=0:\n",
    "    set.add(i)\n",
    "for i in set:\n",
    "  if i%2 !=0:\n",
    "    print(i)"
   ]
  },
  {
   "attachments": {},
   "cell_type": "markdown",
   "metadata": {},
   "source": [
    "For range"
   ]
  },
  {
   "cell_type": "code",
   "execution_count": null,
   "metadata": {},
   "outputs": [],
   "source": [
    "# Generates the sequence of numbers, default starting from 0 and increment to set value minus 1"
   ]
  },
  {
   "cell_type": "code",
   "execution_count": null,
   "metadata": {},
   "outputs": [],
   "source": [
    "for i in range (3): # [0,1,2]\n",
    "    print(i)\n",
    "\n",
    "for i in range (2,5): # [2,3,4]\n",
    "    print(i)\n",
    "\n",
    "for i in range (2,8,2): # [2,4,6]\n",
    "    print(i)"
   ]
  },
  {
   "attachments": {},
   "cell_type": "markdown",
   "metadata": {},
   "source": [
    "Nested loops"
   ]
  },
  {
   "cell_type": "code",
   "execution_count": null,
   "metadata": {},
   "outputs": [],
   "source": [
    "# We can create nested loops for advanced options:\n",
    "\n",
    "dataList = [[10,11],['Alex','Rose'],[30,'Jake',24,'Adam']]\n",
    "\n",
    "for i in dataList:\n",
    "    for j in i:\n",
    "        print(j)\n",
    "\n"
   ]
  },
  {
   "cell_type": "code",
   "execution_count": null,
   "metadata": {},
   "outputs": [],
   "source": [
    "# Break instruction stops the loop\n",
    "dataArray = [0,1,2,3,4,5,6,7,8]\n",
    "\n",
    "for i in dataArray:\n",
    "    if i == 4:\n",
    "        break\n",
    "    print(i)\n",
    "print('\\n')\n",
    "# Continue - stops only actual iteration\n",
    "dataArray = [0,1,2,3,4,5,6,7,8]\n",
    "\n",
    "for i in dataArray:\n",
    "    if i == 4:\n",
    "        continue\n",
    "    print(i)\n",
    "print('\\n')\n",
    "# Pass - does absolutely nothing, but the console won't crash\n",
    "dataArray = [0,1,2,3,4,5,6,7,8]\n",
    "\n",
    "for i in dataArray:\n",
    "    if i == 4:\n",
    "        pass\n",
    "    print(i)\n",
    "\n"
   ]
  },
  {
   "attachments": {},
   "cell_type": "markdown",
   "metadata": {},
   "source": []
  },
  {
   "attachments": {},
   "cell_type": "markdown",
   "metadata": {},
   "source": [
    "Calculator"
   ]
  },
  {
   "cell_type": "code",
   "execution_count": null,
   "metadata": {},
   "outputs": [],
   "source": [
    "# Calculator once again\n",
    "data = []\n",
    "reset = True\n",
    "print('==================Calculator!================')\n",
    "while True:\n",
    "    if reset == True:\n",
    "        numbers = str(input('Type the numbers you want to calculate (type after comma, remember to use dot in fractional numbers): '))\n",
    "        data = numbers.split(',')\n",
    "        reset = False\n",
    "    if len(data) == 1:\n",
    "        print('To less elements!')\n",
    "        reset = True\n",
    "        continue\n",
    "\n",
    "    for i in range (len(data)):\n",
    "        data[i] = float(data[i])\n",
    "\n",
    "    print(' [1] addition \\n [2] subtraction \\n [3] multiplication \\n [4] division') \n",
    "    n = int(input('Tell me what operation do you need? (type the number):'))\n",
    "    result = 0\n",
    "    match n:\n",
    "        case 1:\n",
    "            for i in range (len(data)):\n",
    "                result += data[i] \n",
    "        case 2:\n",
    "            for i in range (len(data)):\n",
    "                result -= data[i]\n",
    "        case 3:\n",
    "            result = 1\n",
    "            for i in range (len(data)):\n",
    "                result *= data[i]\n",
    "        case 4:\n",
    "            result = data[0]\n",
    "            for i in range (1,len(data)):\n",
    "                result /= data[i]\n",
    "        case other:\n",
    "            print('ERROR - try again!')\n",
    "            reset = True\n",
    "            continue\n",
    "    print('The result of the operation: ',result)\n",
    "    operation = input('Do you want to reset or quit [r/q]: ')\n",
    "    if operation == 'q':\n",
    "        break \n",
    "    elif operation == 'r' or operation == '':\n",
    "        reset = True\n",
    "        continue\n",
    "    else:\n",
    "        print('Error!')\n",
    "        break"
   ]
  },
  {
   "attachments": {},
   "cell_type": "markdown",
   "metadata": {},
   "source": [
    "Functions in Python"
   ]
  },
  {
   "cell_type": "code",
   "execution_count": null,
   "metadata": {},
   "outputs": [],
   "source": [
    "# A function is a block of code which only runs when it is called.\n",
    "# You can pass data, known as parameters, into a function.\n",
    "# A function can return data as a result.\n",
    "# A function begins with 'def' operator. After that you must type the name of a function (like a name of variable) and then brackets ():\n",
    "# In the brackets information can be passed into functions as arguments.\n",
    "# Arguments are specified after the function name, inside the parentheses. You can add as many arguments as you want, just separate them with a comma.\n",
    "# A parameter is the variable listed inside the parentheses in the function definition.\n",
    "# An argument is the value that is sent to the function when it is called.\n",
    "\n",
    "def addNumbers (num1, num2): # These are parameters\n",
    "    result = num1 + num2\n",
    "    return result           # Return gives the final output of the function\n",
    "data = []\n",
    "num = input('Type your naumbers to add (separate with comma): ')\n",
    "data = num.split(',')\n",
    "print('Result: ',addNumbers(float(data[0]),float(data[1]))) # These are arguments\n",
    "\n",
    "# By default, a function must be called with the correct number of arguments. \n",
    "# Meaning that if your function expects 2 arguments, you have to call the function with 2 arguments, not more, and not less."
   ]
  },
  {
   "cell_type": "code",
   "execution_count": null,
   "metadata": {},
   "outputs": [],
   "source": [
    "# Creating function\n",
    "\n",
    "data = (-2,-1,0,1,2,3,4,5)\n",
    "\n",
    "def sumData(data):\n",
    "    result = 0\n",
    "    for i in data:\n",
    "        result+=i\n",
    "    return result\n",
    "\n",
    "print('The result: ',sumData(data))  "
   ]
  },
  {
   "cell_type": "code",
   "execution_count": null,
   "metadata": {},
   "outputs": [],
   "source": [
    "# Calculator with functions\n",
    "\n",
    "reset = True\n",
    "\n",
    "def userdata(): \n",
    "    numbers = str(input('Type the numbers you want to calculate (type after comma, remember to use dot in fractional numbers): '))\n",
    "    data = list(numbers.split(','))\n",
    "    for i in range (0,len(data)):\n",
    "        if data[i] == '' or data[i] == ' ' or data[i] == 'exit':\n",
    "            data=False\n",
    "        else:\n",
    "            data[i] = float(data[i])\n",
    "    return data\n",
    "def choose():\n",
    "    print(' [1] addition \\n [2] subtraction \\n [3] multiplication \\n [4] division') \n",
    "    n = int(input('Tell me what operation do you need? (type the number):'))\n",
    "    return n\n",
    "def calculator(n,data):\n",
    "    match n:   \n",
    "        case 1:\n",
    "            result = 0\n",
    "            for i in range (len(data)):\n",
    "                result += data[i] \n",
    "        case 2:\n",
    "            result = data[0]\n",
    "            for i in range (1,len(data)):\n",
    "                result -= data[i]\n",
    "        case 3:\n",
    "            result = 1\n",
    "            for i in range (len(data)):\n",
    "                result *= data[i]\n",
    "        case 4:\n",
    "            result = data[0]\n",
    "            for i in range (1,len(data)):\n",
    "                result /= data[i]\n",
    "        case other:\n",
    "            result= str('ERROR - try again!')\n",
    "    return result\n",
    "def reseting():\n",
    "    operation = input('Do you want to reset or quit [r/q]: ')\n",
    "    if operation == 'q':\n",
    "        reset = False\n",
    "    elif operation == 'r' or operation == '':\n",
    "        reset = True\n",
    "    else:\n",
    "        reset = False\n",
    "    return reset\n",
    "print('====================Calculator===================')\n",
    "while reset == True:\n",
    "    data = userdata()\n",
    "    if data == False:\n",
    "        print('Error!')\n",
    "        break\n",
    "    else:\n",
    "        if len(data) == 1:\n",
    "            print ('Too less elements')\n",
    "            continue\n",
    "        else:\n",
    "            n = choose()\n",
    "            result = calculator(n,data)\n",
    "            print('The result of the operation: ',result)\n",
    "            reset = reseting()"
   ]
  },
  {
   "attachments": {},
   "cell_type": "markdown",
   "metadata": {},
   "source": [
    "MUTOWALNE I NIEMUTOWALNE ARGUMENTY W FUNKCJI"
   ]
  },
  {
   "cell_type": "code",
   "execution_count": null,
   "metadata": {},
   "outputs": [],
   "source": [
    "# immutable: int, float, bool, str, frozenset\n",
    "\n",
    "def modifyString(x):\n",
    "    print(id(x))\n",
    "    x+='!'\n",
    "    print(id(x))\n",
    "    print(x,'\\n')\n",
    "\n",
    "hello = 'Hello World!'\n",
    "print(id(hello))\n",
    "modifyString(hello)\n",
    "print(id(hello))"
   ]
  },
  {
   "cell_type": "code",
   "execution_count": null,
   "metadata": {},
   "outputs": [],
   "source": [
    "# mutable: set, dict, list\n",
    "\n",
    "def modyfiList(list):\n",
    "    print(id(list))\n",
    "    list.append(10)\n",
    "    list.append(3)\n",
    "    print(id(list))\n",
    "print('')\n",
    "test = [0,1,2]\n",
    "print(id(test))\n",
    "modyfiList(test)\n",
    "print(id(test))\n",
    "print(test)\n",
    "\n"
   ]
  },
  {
   "cell_type": "code",
   "execution_count": null,
   "metadata": {},
   "outputs": [],
   "source": [
    "# A function doesn't need to have a parameter!\n",
    "# But when it does you must type arguments in correct order, otherwise an error will appear!\n",
    "# You can also set the default parameter in function. In this case when you don't have enough arguments, the programm will use default values:\n",
    "\n",
    "def printUser (name,country = 'unknown', email = 'dafault@example.com'):\n",
    "    print('User: ' + name + ' from country: ' + country + ' and email: ' + email)\n",
    "\n",
    "printUser('Adam', 'Poland','adam@example.com')\n",
    "\n",
    "printUser('Rose')\n"
   ]
  },
  {
   "cell_type": "code",
   "execution_count": null,
   "metadata": {},
   "outputs": [],
   "source": [
    "# About this correct order, if you name the arguments like parameters, do what you want!\n",
    "\n",
    "def showData (string, number):\n",
    "    print(string,str(number))\n",
    "\n",
    "showData(string = 'Shark', number = 12) #Shark 12\n",
    "showData(number = 12,string = 'Shark') #Shark 12"
   ]
  },
  {
   "cell_type": "code",
   "execution_count": null,
   "metadata": {},
   "outputs": [],
   "source": [
    "# You can apply both methods \n",
    "\n",
    "def printUser (name,country = 'unknown', email = 'dafault@example.com'):\n",
    "    print('User: ' + name + ' from country: ' + country + ' and email: ' + email)\n",
    "\n",
    "printUser(country ='UK',name ='Jane')"
   ]
  },
  {
   "attachments": {},
   "cell_type": "markdown",
   "metadata": {},
   "source": [
    "\n",
    "Limiting the way data is passed to the function"
   ]
  },
  {
   "cell_type": "code",
   "execution_count": null,
   "metadata": {},
   "outputs": [],
   "source": [
    "# The programmer can specify the acceptable ways of passing data to the function. \n",
    "# / - only position parameters the order of arguments is immportant. We can't name arguments. You can insert it when the position parameters begins.\n",
    "# all parameters before / are positional parameters\n",
    "def printData(string, number = 10, /):\n",
    "    print(string, number)\n",
    "\n",
    "printData('Test',5) # works perfectly\n",
    "printData(string ='Test', number = 5) # Error!\n",
    "\n"
   ]
  },
  {
   "cell_type": "code",
   "execution_count": null,
   "metadata": {},
   "outputs": [],
   "source": [
    "# It is also possible to use * (Arbitrary Arguments)\n",
    "# The parameters have to be named\n",
    "# If you do not know how many arguments that will be passed into your function, add a * before the parameter name in the function definition.\n",
    "# This way the function will receive a tuple of arguments, and can access the items accordingly:\n",
    "\n",
    "def printData(*,string, number = 10):\n",
    "    print(string, number)\n",
    "\n",
    "printData(string ='Test', number = 5) # works perfectly\n",
    "printData('Test',5) # Error!\n"
   ]
  },
  {
   "cell_type": "code",
   "execution_count": null,
   "metadata": {},
   "outputs": [],
   "source": [
    "# Parameters after * have to be passed as named arguments\n",
    "# Parameters before * have to be passed as named arguments or positional arguments\n",
    "\n",
    "def printData(float,bool,*,string, number = 10):\n",
    "    print(float, bool, string, number)\n",
    "\n",
    "printData(12.5,bool=True, string = 'Test', number = 11)\n",
    "printData(float = 12.5,bool=False, number = 11, string = 'Test')\n",
    "printData(20.3, False, number = 11, string = 'Test')\n",
    "\n",
    "# But we we must be consistent in case of choose the typing\n"
   ]
  },
  {
   "attachments": {},
   "cell_type": "markdown",
   "metadata": {},
   "source": [
    "Scope - zasięg zmiennych -> local variables"
   ]
  },
  {
   "cell_type": "code",
   "execution_count": null,
   "metadata": {},
   "outputs": [],
   "source": [
    "# We have global variable\n",
    "\n",
    "number = 20\n",
    "\n",
    "def printNumber():\n",
    "    print(number) # access to global variable\n",
    "    string = 'test' # created local variable\n",
    "    print(string)\n",
    "\n",
    "printNumber()\n",
    "# id(string) # cannot access string, cause string is local variable in function\n",
    "\n",
    "def test():\n",
    "    global number   # access to global variable\n",
    "    number = 5  # we changed the value of global variable \n",
    "    print(number) \n",
    "\n",
    "test()\n",
    "print(number)"
   ]
  },
  {
   "attachments": {},
   "cell_type": "markdown",
   "metadata": {},
   "source": [
    "Lambda functions"
   ]
  },
  {
   "cell_type": "code",
   "execution_count": null,
   "metadata": {},
   "outputs": [],
   "source": [
    "# A lambda function is a small anonymous function.\n",
    "# A lambda function can take any number of arguments, but can only have one expression.\n",
    "\n",
    "sum = lambda a,b: a+b\n",
    "\n",
    "print(sum(10,5)) # 15\n",
    "print(sum(4,3)) # 7\n",
    "\n"
   ]
  },
  {
   "cell_type": "code",
   "execution_count": null,
   "metadata": {},
   "outputs": [],
   "source": [
    "# The power of lambda is better shown when you use them as an anonymous function inside another function.\n",
    "# Say you have a function definition that takes one argument, and that argument will be multiplied with an unknown number:\n",
    "\n",
    "def genFunc(n):\n",
    "    return lambda a: a*n\n",
    "\n",
    "doubler = genFunc(2) # definition of an n argument\n",
    "print(doubler(5)) # definition of an a argument \n",
    "print(doubler(7))\n",
    "\n",
    "tripler = genFunc(3) # definition of an n argument\n",
    "print(tripler(5)) # definition of an a argument \n",
    "print(tripler(7))"
   ]
  },
  {
   "cell_type": "code",
   "execution_count": null,
   "metadata": {},
   "outputs": [],
   "source": [
    "# The main purpouse of using lambda is in high tier function. (They return another functions or parameter is a function).\n",
    "# Example: r = map(func, seq) \n",
    "\n",
    "listData = [1,2,3,4,5]\n",
    "\n",
    "result = map(lambda x: x*2, listData) # the first parameter is a function that we will do to every element of listData, and then convert the result into list\n",
    "# map returns elements as an Iterators so it is possible to convert it into list (works like for loop)\n",
    "print(list(result)) # [2,4,6,8,10]\n",
    "print(list(map(lambda x: x*3, [1,2,3,4]))) # [3,6,9,12]"
   ]
  },
  {
   "cell_type": "code",
   "execution_count": null,
   "metadata": {},
   "outputs": [],
   "source": [
    "# Filter function accept lambda expression if true seq element is in result.\n",
    "\n",
    "listData = ['Alex', 'Ginny','Minerva','Jake']\n",
    "\n",
    "# name filter, takes every one that has less than 6 chars\n",
    "\n",
    "result = filter(lambda x: len(x)<=5, listData) \n",
    "\n",
    "print(list(result)) # ['Alex', 'Ginny','Jake']"
   ]
  },
  {
   "cell_type": "code",
   "execution_count": null,
   "metadata": {},
   "outputs": [],
   "source": [
    "from functools import reduce # import reduce function - reduces sequences into one value\n",
    "\n",
    "numSum = reduce((lambda x, y: x+y ),[1,2,3,4,5]) # we are taking x and we will add x value into y and return y\n",
    "\n",
    "print('Sum: ', numSum)\n"
   ]
  },
  {
   "attachments": {},
   "cell_type": "markdown",
   "metadata": {},
   "source": [
    "Math functions"
   ]
  },
  {
   "cell_type": "code",
   "execution_count": null,
   "metadata": {},
   "outputs": [],
   "source": [
    "# math lib\n",
    "import math\n",
    "\n",
    "# absolute value\n",
    "print(abs(5))   # 5 \n",
    "print(abs(-5))  # 5\n",
    "\n",
    "# rounding up value math.ceil()\n",
    "print(math.ceil(6.78))  # 7\n",
    "print(math.ceil(20.12)) # 21\n",
    "print(math.ceil(-3.23)) # -3\n",
    "\n",
    "# rounding down value math.floor()\n",
    "print(math.floor(6.78))  # 6\n",
    "print(math.floor(20.12)) # 20\n",
    "print(math.floor(-3.23)) # -4\n",
    "\n",
    "# max() - returns the greatest value\n",
    "print(max(12,3,78,32,11)) # 78\n",
    "print(max([9,67,43,-2])) # 67\n",
    "\n",
    "# min() - returns the smallest value\n",
    "print(min(12,3,78,32,11)) # 3\n",
    "print(min([9,67,43,-2])) # -2\n",
    "\n",
    "pow(2,3) # power x^y\n",
    "print(math.sqrt(16)) # 4\n",
    "\n",
    "# round\n",
    "print(round(23.12345), 3) # 23.123\n",
    "\n",
    "# moreover there are trigonometric functions"
   ]
  },
  {
   "cell_type": "code",
   "execution_count": null,
   "metadata": {},
   "outputs": [],
   "source": [
    "# random lib\n",
    "\n",
    "import random\n",
    "\n",
    "print(random.random()) # random float from (0,1)\n",
    "\n",
    "# random element from list, tuple or string:\n",
    "print(random.choice([4,3,8])) \n",
    "print(random.choice(['Annie','Peter','Adam']))\n",
    "\n",
    "# random element from (start,stop,step)\n",
    "print(random.randrange(0,25,5))\n",
    "\n",
    "# permutation\n",
    "listData = [0,1,2,3,4]\n",
    "print(random.shuffle(listData))\n",
    "\n",
    "# random float more than x and less than y\n",
    "print(random.uniform(2.3,10.78))\n",
    "\n"
   ]
  },
  {
   "attachments": {},
   "cell_type": "markdown",
   "metadata": {},
   "source": [
    "Functions for lists"
   ]
  },
  {
   "cell_type": "code",
   "execution_count": null,
   "metadata": {},
   "outputs": [],
   "source": [
    "# basics of lists\n",
    "list = [0,1,2,3,4,5,6]\n",
    "print(list[2:4]) # [2,3]\n",
    "list[2] = 'Dave' # Chenges the value\n",
    "\n",
    "del list[4] # deletes the element\n",
    "print(list)\n",
    "\n",
    "print(max([7,8,9])) # 9\n",
    "print(min([7,8,9])) # 7\n",
    "\n",
    "print(list((10,20))) # [10,20]\n",
    "\n",
    "print([0,1]+[2,3]) # [0,1,2,3]\n",
    "print([3,2]*2) #[3,2,3,2]\n",
    "print(5 in [0,1,2,3,5]) # True\n",
    "print(0 not in [3,4,5]) # True"
   ]
  },
  {
   "cell_type": "code",
   "execution_count": null,
   "metadata": {},
   "outputs": [],
   "source": [
    "# Working with lists\n",
    "\n",
    "list4 = ['Annie', 'Alex']\n",
    "list4.append('Rose') # adds value at the end of the list\n",
    "\n",
    "print(list4.count('Annie')) # the number of repetitions # 1\n",
    "\n",
    "# adding new sequence to the list\n",
    "print(list4.extend(['Ricky', 'Julian'])) # ['Annie','Alex','Rose','Ricky','Julian']\n",
    "\n",
    "print(list4.index('Alex')) # returns first index of the value\n",
    "# inserts the value in specific place in list\n",
    "print(list4.insert(0, 'Bubbles')) # ['Bubbles','Annie','Alex','Rose','Ricky','Julian']\n",
    "print(list4.reverse()) # ['Julian','Ricky','Rose','Alex','Annie','Bubbles']\n",
    "\n",
    "list5 = [4,9,1,5]\n",
    "print(list5.sort()) # [1,4,5,9]\n",
    "\n",
    "# returns and takes the last element from list\n",
    "print(list5.pop()) # 9 (after sorting)\n",
    "print(list(5)) # [1,4,5]"
   ]
  },
  {
   "attachments": {},
   "cell_type": "markdown",
   "metadata": {},
   "source": [
    "Tuples functions - simmilar to lists, but we can't change or delete elements"
   ]
  },
  {
   "attachments": {},
   "cell_type": "markdown",
   "metadata": {},
   "source": [
    "Dictionary functions "
   ]
  },
  {
   "cell_type": "code",
   "execution_count": null,
   "metadata": {},
   "outputs": [],
   "source": [
    "# working dictionaries\n",
    "\n",
    "data = {'name': 'Aggie', 'city': 'Wroclaw'}\n",
    "print(data['name'])\n",
    "data['name'] = 'JRoc'\n",
    "\n",
    "emailKey = 'email'\n",
    "data[emailKey] = 'jroc.youknowwhtimsayin@swearnet.com'\n",
    "\n",
    "del data['city']\n",
    "print(data,len(data)) \n",
    "\n",
    "data.clear() # deletes all elements from dictionary\n",
    "print(data)\n",
    "\n",
    "data = {'name': 'Aggie', 'city': 'Wroclaw'}\n",
    "copy = data.copy() # płytka kopia\n",
    "print(copy)\n",
    "# creates dictionary with keys given, values \"None\"\n",
    "print(data.fromkeys(('name', 'email', 'country')))\n",
    "\n",
    "# returns key value or argument\n",
    "print(data.get('postal code', 'Default')) # Default\n",
    "\n",
    "print('name' in data) # True\n",
    "\n",
    "print(data.keys()) # returns keys\n",
    "print(data.values()) # returns values"
   ]
  },
  {
   "attachments": {},
   "cell_type": "markdown",
   "metadata": {},
   "source": [
    "Time in Python - operations on dates"
   ]
  },
  {
   "cell_type": "code",
   "execution_count": null,
   "metadata": {},
   "outputs": [],
   "source": [
    "import time\n",
    "\n",
    "ticks = time.time() # timestamp (time from 1.01.1970)\n",
    "print(ticks)"
   ]
  },
  {
   "cell_type": "code",
   "execution_count": null,
   "metadata": {},
   "outputs": [],
   "source": [
    "# Working on dates\n",
    "import time\n",
    "timeData = time.localtime() # time.struct_time(tm_year=2023, tm_mon=7, tm_mday=1, tm_hour=17, tm_min=44, tm_sec=53, tm_wday=5, tm_yday=182, tm_isdst=1)\n",
    "print(timeData)\n",
    "\n",
    "print(timeData.tm_year) # year 2023\n",
    "print(timeData.tm_mon) # month 7 so July\n",
    "print(timeData.tm_mday) # day of month (1)\n",
    "print(timeData.tm_hour) # hours (17)\n",
    "print(timeData.tm_min) # minutes (50)\n",
    "print(timeData.tm_sec) # seconds (1)\n",
    "print(timeData.tm_wday) # day of week (0,6)\n",
    "print(timeData.tm_yday) # day of year (182)\n",
    "print(timeData.tm_isdst) # -1 means python works on summer time\n"
   ]
  },
  {
   "cell_type": "code",
   "execution_count": null,
   "metadata": {},
   "outputs": [],
   "source": [
    "# 0 sec from 01.01.1970\n",
    "timeData = time.localtime(0)\n",
    "print(timeData) # time.struct_time(tm_year=1970, tm_mon=1, tm_mday=1, tm_hour=1, tm_min=0, tm_sec=0, tm_wday=3, tm_yday=1, tm_isdst=0)\n",
    "\n",
    "ticks = time.time()\n",
    "print(ticks) # 1688226863.5672815\n",
    "# Minus 24 hours from actual timestamp\n",
    "timeData = time.localtime(ticks - (24*60*60))\n",
    "\n",
    "print(timeData) # time.struct_time(tm_year=2023, tm_mon=6, tm_mday=30, tm_hour=17, tm_min=54, tm_sec=23, tm_wday=4, tm_yday=181, tm_isdst=1)"
   ]
  },
  {
   "cell_type": "code",
   "execution_count": null,
   "metadata": {},
   "outputs": [],
   "source": [
    "# Print the result:\n",
    "\n",
    "result = time.asctime(time.localtime(time.time()))\n",
    "print (result) # Sat Jul  1 17:56:08 2023"
   ]
  },
  {
   "cell_type": "code",
   "execution_count": null,
   "metadata": {},
   "outputs": [],
   "source": [
    "timeData = time.localtime()\n",
    "timeStr = time.strftime ('%m/%d/%Y %H:%M:%S',timeData)\n",
    "print(timeStr) # 07/01/2023 17:58:07"
   ]
  },
  {
   "cell_type": "code",
   "execution_count": null,
   "metadata": {},
   "outputs": [],
   "source": [
    "# vrates tuple with data and time\n",
    "import time\n",
    "timeStr = '08 March, 2025'\n",
    "timeData = time.strptime(timeStr, '%d %B, %Y')\n",
    "print(timeData)"
   ]
  },
  {
   "cell_type": "code",
   "execution_count": null,
   "metadata": {},
   "outputs": [],
   "source": [
    "import time\n",
    "i = 0\n",
    "while i <10:\n",
    "    time.sleep(1) # sleep for 1 second\n",
    "    print(time.asctime(time.localtime()))\n",
    "    i+=1"
   ]
  },
  {
   "cell_type": "code",
   "execution_count": null,
   "metadata": {},
   "outputs": [],
   "source": [
    "import time\n",
    "# the time of code working\n",
    "tStart = time.perf_counter()\n",
    "time.sleep(0.1)\n",
    "tEnd = time.perf_counter()\n",
    "\n",
    "#measure wall time\n",
    "interval = tEnd - tStart\n",
    "print('Elapsed time: ', interval, 'second') # Elapsed time:  0.1003666000906378 second"
   ]
  },
  {
   "cell_type": "code",
   "execution_count": 1,
   "metadata": {},
   "outputs": [
    {
     "name": "stdout",
     "output_type": "stream",
     "text": [
      "date():  2023-07-02\n",
      "time():  15:48:46.169698\n",
      "timestamp():  1688305726.169698\n",
      "weekday():  6\n",
      "today():  2023-07-02 15:48:46.169698\n",
      "year:  2023\n",
      "hour:  15\n",
      "minute:  48\n",
      "second:  46\n",
      "milisecond:  169698\n",
      "format:  07/02/2023 15:48:46\n"
     ]
    },
    {
     "data": {
      "text/plain": [
       "'\\ndate():  2023-07-01\\ntime():  18:15:10.278171\\ntimestamp():  1688228110.278171\\nweekday():  5\\ntoday():  2023-07-01 18:15:10.278172\\nyear:  2023\\nhour:  18\\nminute:  15\\nsecond:  10\\nmilisecond:  278171\\nformat:  07/01/2023 18:15:10\\n\\n'"
      ]
     },
     "execution_count": 1,
     "metadata": {},
     "output_type": "execute_result"
    }
   ],
   "source": [
    "import datetime\n",
    "datetimeObj = datetime.datetime (2023,7,1) # creates object datetime with dates\n",
    "datetime = datetime.datetime(2025,5,30,23,59,0)\n",
    "datetimeObj = datetime.now() # real date and time\n",
    "\n",
    "print('date(): ', datetimeObj.date()) \n",
    "print('time(): ', datetimeObj.time()) \n",
    "print('timestamp(): ', datetimeObj.timestamp()) \n",
    "print('weekday(): ',datetimeObj.weekday()) \n",
    "print('today(): ',datetimeObj.today()) \n",
    "print('year: ',datetimeObj.year) \n",
    "print('hour: ',datetimeObj.hour) \n",
    "print('minute: ',datetimeObj.minute) \n",
    "print('second: ',datetimeObj.second) \n",
    "print('milisecond: ',datetimeObj.microsecond)\n",
    "print('format: ',datetimeObj.strftime('%m/%d/%Y %H:%M:%S')) \n",
    "\n",
    "'''\n",
    "date():  2023-07-01\n",
    "time():  18:15:10.278171\n",
    "timestamp():  1688228110.278171\n",
    "weekday():  5\n",
    "today():  2023-07-01 18:15:10.278172\n",
    "year:  2023\n",
    "hour:  18\n",
    "minute:  15\n",
    "second:  10\n",
    "milisecond:  278171\n",
    "format:  07/01/2023 18:15:10\n",
    "\n",
    "'''"
   ]
  },
  {
   "cell_type": "code",
   "execution_count": null,
   "metadata": {},
   "outputs": [],
   "source": [
    "# we can compare two dates\n",
    "import datetime\n",
    "\n",
    "datetime1 = datetime.datetime(2025,5,30,23,29,0) # Y/M/D/H/M/S\n",
    "datetime2 = datetime.datetime(2025,5,30,23,29,10)\n",
    "\n",
    "print(datetime1>datetime2) # F\n",
    "print(datetime1<datetime2) # T\n",
    "print(datetime1==datetime2) # F\n",
    "print(datetime2==datetime2) # T\n",
    "\n",
    "date1 = datetime.date(2019,4,16)\n",
    "date2 = datetime.date(2020,11,3)\n",
    "\n",
    "print(date1 > date2) # F\n",
    "print(date1 < date2) # T\n",
    "print(date1 == date2) # F \n",
    "print(date2 == date2) # T\n"
   ]
  },
  {
   "attachments": {},
   "cell_type": "markdown",
   "metadata": {},
   "source": [
    "Try / except expression:"
   ]
  },
  {
   "cell_type": "code",
   "execution_count": 1,
   "metadata": {},
   "outputs": [
    {
     "name": "stdout",
     "output_type": "stream",
     "text": [
      "Temperature in Celcius:  23.88888888888889\n",
      "Temperature in Celcius:  13.333333333333334\n",
      "Error - invalid data. Please try again.\n",
      "Error - invalid data. Please try again.\n",
      "Error - invalid data. Please try again.\n"
     ]
    }
   ],
   "source": [
    "# It works like an if expression. In try section you have instructions to your programm, but except is section which works only if an error appear \n",
    "while True:\n",
    "    try:\n",
    "        fahr = input('Type your temperature in Fahrenheit (type exit to end the programm): ')\n",
    "        if fahr == 'exit':\n",
    "            break\n",
    "\n",
    "        cel = (float(fahr)-32.0)*5/9\n",
    "        print('Temperature in Celcius: ', cel)\n",
    "\n",
    "    except:\n",
    "        print('Error - invalid data. Please try again.')\n",
    "        continue\n",
    "\n"
   ]
  },
  {
   "cell_type": "code",
   "execution_count": 3,
   "metadata": {},
   "outputs": [
    {
     "name": "stdout",
     "output_type": "stream",
     "text": [
      "Rose\n",
      "<class 'IndexError'>\n",
      "Jake\n"
     ]
    }
   ],
   "source": [
    "import sys\n",
    "lista = ['Rose', 'Jake', 'Molly']\n",
    "\n",
    "print(lista[0])\n",
    "\n",
    "try: print(lista[5])\n",
    "except: print( sys.exc_info()[0] ) # prints type of an error\n",
    "\n",
    "print(lista[1])"
   ]
  },
  {
   "cell_type": "code",
   "execution_count": null,
   "metadata": {},
   "outputs": [],
   "source": [
    "import sys\n",
    "\n",
    "data = [\"Ola\", \"Ania\", \"Adam\", \"Kasia\"]\n",
    "\n",
    "print(data[0])\n",
    "\n",
    "index = 2\n",
    "try:\n",
    "    print(data[index])\n",
    "    print(data[index - 1])\n",
    "    raise InterruptedError(\"some error!\") # wyjątek\n",
    "except IndexError:\n",
    "    print(\"Error IndexError!\", sys.exc_info()[0] )\n",
    "except InterruptedError:\n",
    "    print(\"Error InterruptedError!\", sys.exc_info()[0] )\n",
    "except:\n",
    "    print(\"Error!\", sys.exc_info()[0] )\n",
    "else:\n",
    "    print(\"No error!\")\n",
    "\n",
    "\n",
    "print(data[3])"
   ]
  },
  {
   "cell_type": "markdown",
   "metadata": {},
   "source": [
    "Some important functions"
   ]
  },
  {
   "cell_type": "code",
   "execution_count": 1,
   "metadata": {},
   "outputs": [
    {
     "data": {
      "text/plain": [
       "False"
      ]
     },
     "execution_count": 1,
     "metadata": {},
     "output_type": "execute_result"
    }
   ],
   "source": [
    "import os\n",
    "path = 'xywzmx'\n",
    "os.path.exists(path) # checks if this path exists"
   ]
  }
 ],
 "metadata": {
  "kernelspec": {
   "display_name": "Python 3",
   "language": "python",
   "name": "python3"
  },
  "language_info": {
   "codemirror_mode": {
    "name": "ipython",
    "version": 3
   },
   "file_extension": ".py",
   "mimetype": "text/x-python",
   "name": "python",
   "nbconvert_exporter": "python",
   "pygments_lexer": "ipython3",
   "version": "3.11.4"
  },
  "orig_nbformat": 4,
  "vscode": {
   "interpreter": {
    "hash": "8a5edab282632443219e051e4ade2d1d5bbc671c781051bf1437897cbdfea0f1"
   }
  }
 },
 "nbformat": 4,
 "nbformat_minor": 2
}
