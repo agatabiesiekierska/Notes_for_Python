{
 "cells": [
  {
   "attachments": {},
   "cell_type": "markdown",
   "metadata": {},
   "source": [
    "Opening files in Python"
   ]
  },
  {
   "cell_type": "code",
   "execution_count": null,
   "metadata": {},
   "outputs": [],
   "source": [
    "# We can open text file in Python with command open()\n",
    "fhand = open ('mbox . txt ') # in brackets you have to type name of the file or trace to it\n",
    "print ( fhand )\n",
    "# Output: <_io. TextIOWrapper name ='mbox . txt ' mode ='r' encoding ='cp1252 ' "
   ]
  },
  {
   "cell_type": "code",
   "execution_count": null,
   "metadata": {},
   "outputs": [],
   "source": [
    "# reading the file:\n",
    "fhand = open ('mbox - short . txt ')\n",
    "count = 0\n",
    "for line in fhand :\n",
    "    count = count + 1\n",
    "print ('Liczba linii :', count )"
   ]
  }
 ],
 "metadata": {
  "kernelspec": {
   "display_name": "Python 3",
   "language": "python",
   "name": "python3"
  },
  "language_info": {
   "name": "python",
   "version": "3.11.4"
  },
  "orig_nbformat": 4
 },
 "nbformat": 4,
 "nbformat_minor": 2
}
