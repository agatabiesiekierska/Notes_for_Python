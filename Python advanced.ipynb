{
 "cells": [
  {
   "cell_type": "code",
   "execution_count": null,
   "metadata": {},
   "outputs": [],
   "source": [
    "dayType = 2\n"
   ]
  },
  {
   "cell_type": "markdown",
   "metadata": {},
   "source": [
    "Eval() - this function takes string or input from user and takes it as a line of code. It takes some formula and returns the results"
   ]
  },
  {
   "cell_type": "code",
   "execution_count": null,
   "metadata": {},
   "outputs": [],
   "source": [
    "# eval(formula, enviroment(from where it can takes values # important if you have variables like password))\n",
    "import math\n",
    "\n",
    "formula = input('Type your formula to calculate (use x as an argument):')\n",
    "argument_list = []\n",
    "for i in range (0,100):\n",
    "    argument_list.append(round(0.1*i,3))\n",
    "results = dict()\n",
    "for x in argument_list:\n",
    "    result = eval(formula)\n",
    "    results[x] = round(result,3)\n",
    "\n",
    "for i in results.keys():\n",
    "    print(f'x: {i} = {results[i]}')\n"
   ]
  },
  {
   "cell_type": "markdown",
   "metadata": {},
   "source": [
    "But you can't change the values of variables. This works only with exec() function where you can write basically any code and exec() will add this into programm (but the function itself returns None - always). Also exec() takes longer strings. (more lines than 1)"
   ]
  },
  {
   "cell_type": "code",
   "execution_count": null,
   "metadata": {},
   "outputs": [],
   "source": [
    "# It is possible to load whole scripts with exec() function\n",
    "import os\n",
    "files_to_process = [r'C:\\Python - skrypty\\KURS - UDEMY - Mobilo - Średniozaawansowany\\LAB13 - eval() and exec()\\Script_1.txt', \n",
    "                    r'C:\\Python - skrypty\\KURS - UDEMY - Mobilo - Średniozaawansowany\\LAB13 - eval() and exec()\\Script_2.txt']\n",
    "print('='*100)\n",
    "for i in files_to_process:\n",
    "    \n",
    "    print('Name of the file: ', os.path.basename(i))\n",
    "\n",
    "    with open (i,'r') as f:\n",
    "        source = f.read()\n",
    "    try:    \n",
    "        exec(source)\n",
    "        print('='*100) \n",
    "    except: print('An ERROR has occured!')"
   ]
  },
  {
   "cell_type": "markdown",
   "metadata": {},
   "source": [
    "Compile() - this is a function to pre - compile fragments of code. Saves memory (code works faster) and shows if it works and why not  "
   ]
  },
  {
   "cell_type": "code",
   "execution_count": null,
   "metadata": {},
   "outputs": [],
   "source": [
    "reportLine = 0\n",
    "source = 'reportLine += 1'\n",
    "exec(source)\n",
    "# sourceCompiled = compile(instruction to compile, path to the file, where the instructions are (optional), mode (exec, eval, simple(one simple instruction))\n",
    "sourceCompiled = compile(source, 'internal variable', 'exec')\n",
    "exec(sourceCompiled)\n"
   ]
  },
  {
   "cell_type": "code",
   "execution_count": null,
   "metadata": {},
   "outputs": [],
   "source": [
    "import time\n",
    "reportLine = 0\n",
    "source = 'reportLine += 1'\n",
    "start = time.time()\n",
    "for i in range (10000):\n",
    "    exec(source)\n",
    "stop = time.time()\n",
    "timeNotCompiled = stop - start\n",
    "\n",
    "sourceCompiled = compile(source, 'internal variable', 'exec')\n",
    "start = time.time()\n",
    "for i in range (10000):\n",
    "    exec(sourceCompiled)\n",
    "stop = time.time()\n",
    "timeCompiled = stop - start\n",
    "\n",
    "print('Time Compiled: ', timeCompiled)\n",
    "print('Time Not Compiled: ', timeNotCompiled)\n",
    "print(timeNotCompiled/timeCompiled)"
   ]
  },
  {
   "cell_type": "markdown",
   "metadata": {},
   "source": [
    "args and kwargs => important if you don't know how many parameters do you need in your function"
   ]
  },
  {
   "cell_type": "code",
   "execution_count": null,
   "metadata": {},
   "outputs": [],
   "source": [
    "def BuyMe(prefix = 'Please buy me', what = 'anything' , *args, **kwargs):\n",
    "    print(prefix, what)\n",
    "    print('Also buy me:', args)\n",
    "    print('Parameters: ', kwargs)\n",
    "\n",
    "BuyMe('newspaper', 'milk', 'eggs', 'apples', colour = 'red', type = 'jonagold')\n",
    "\n",
    "products = ['computer', 'keyboard', 'headphones']\n",
    "parameters = {'brand': 'Apple', 'type': 'smartphone'}\n",
    "\n",
    "BuyMe('newspaper', *products, **parameters)\n",
    "\n"
   ]
  },
  {
   "cell_type": "markdown",
   "metadata": {},
   "source": [
    "Function as variable"
   ]
  },
  {
   "cell_type": "code",
   "execution_count": null,
   "metadata": {},
   "outputs": [],
   "source": [
    "def BuyMe(prefix = 'Please buy me', what = 'anything' , *args, **kwargs):\n",
    "    print(prefix, what)\n",
    "\n",
    "BuyMe(what = 'a new car')\n",
    "StealForMe = BuyMe\n",
    "\n",
    "StealForMe(what = 'a new car')\n",
    "\n"
   ]
  },
  {
   "cell_type": "code",
   "execution_count": null,
   "metadata": {},
   "outputs": [],
   "source": [
    "def GoLeft(*args):\n",
    "    print('PLACEHOLDER - turning left with', *args)\n",
    "\n",
    "def GoRight(*args):\n",
    "    print('PLACEHOLDER - turning right with', *args)\n",
    "\n",
    "def GoForward(*args):\n",
    "    print('PLACEHOLDER - going forward with', *args)\n",
    "\n",
    "def GoBack(*args):\n",
    "    print('PLACEHOLDER - going back with', *args)\n",
    "\n",
    "def Start(*args):\n",
    "    print('PLACEHOLDER - starting with', *args)\n",
    "\n",
    "def Stop(*args):\n",
    "    print('PLACEHOLDER - stopping with', *args)\n",
    "\n",
    "instructions = [Start, GoForward, GoLeft, GoForward, GoRight, Stop]\n",
    "\n",
    "dish = 'pizza'\n",
    "\n",
    "for i in instructions:\n",
    "    i(dish)\n"
   ]
  },
  {
   "cell_type": "markdown",
   "metadata": {},
   "source": [
    "Function as argument"
   ]
  },
  {
   "cell_type": "code",
   "execution_count": null,
   "metadata": {},
   "outputs": [],
   "source": [
    "def Bake(what):\n",
    "    print(f'Baking {what}')\n",
    "\n",
    "def Add(what):\n",
    "    print(f'Adding {what}')\n",
    "\n",
    "def Mix(what):\n",
    "    print(f'Mixing {what}')\n",
    "\n",
    "cookbook = [(Add, 'milk'),(Add, 'eggs'),(Add, 'flour'), (Add, 'sugar'), (Mix,'ingredients'), (Bake, 'cookies')]\n",
    "\n",
    "for i,j in cookbook:\n",
    "    i(j)  # We call a function with the given argument\n",
    "\n",
    "print('='*30)\n",
    "\n",
    "def Cook(activity, ingredient):\n",
    "    activity(ingredient)\n",
    "\n",
    "Cook(Bake,'brownies')\n",
    "\n",
    "for i,j in cookbook:\n",
    "    Cook(i,j)"
   ]
  },
  {
   "cell_type": "markdown",
   "metadata": {},
   "source": [
    "Returning function"
   ]
  },
  {
   "cell_type": "code",
   "execution_count": null,
   "metadata": {},
   "outputs": [],
   "source": [
    "def CreateFunction(kind = '+'):\n",
    "    source = f'''\n",
    "def f(*args):\n",
    "    result = 0\n",
    "    for a in args:\n",
    "        result {kind}= a\n",
    "    return result\n",
    "    '''\n",
    "    exec(source, globals ()) #Very important! globals()\n",
    "\n",
    "    return f\n",
    "\n",
    "f_add = CreateFunction('+')\n",
    "print(f_add(1,2,3,4))\n",
    "f_subs = CreateFunction('-')\n",
    "print(f_subs(10,20,30))\n"
   ]
  },
  {
   "cell_type": "markdown",
   "metadata": {},
   "source": [
    "Function with wrapper"
   ]
  },
  {
   "cell_type": "markdown",
   "metadata": {},
   "source": [
    "We can create new function, that will describe the previous function."
   ]
  },
  {
   "cell_type": "code",
   "execution_count": null,
   "metadata": {},
   "outputs": [],
   "source": [
    "import datetime\n",
    "\n",
    "def ChangeSalary(name,value,is_bonus = False):\n",
    "    print(f'CHANGING SALARY FOR {name} TO {value} AS BONUS = {is_bonus}')\n",
    "    return value\n",
    "def CreateFunctionWithWrapper(function):\n",
    "    def func_wrap(*args,**kwargs):\n",
    "        print('Function {} started at {}'.format(function.__name__,datetime.datetime.now().isoformat()))\n",
    "        print('Following arguments were used:',args,kwargs)\n",
    "        result = function(*args,**kwargs)\n",
    "        return result\n",
    "    return func_wrap\n",
    "\n",
    "ChangeSalaryWithLog = CreateFunctionWithWrapper(ChangeSalary)\n",
    "\n",
    "print(ChangeSalaryWithLog('Smith', 2000, is_bonus = True))"
   ]
  },
  {
   "cell_type": "markdown",
   "metadata": {},
   "source": [
    "Dekorators of functions  - don't work in recursive functions"
   ]
  },
  {
   "cell_type": "code",
   "execution_count": null,
   "metadata": {},
   "outputs": [],
   "source": [
    "import datetime\n",
    "import functools\n",
    "\n",
    "def CreateFunctionWithWrapper(function):\n",
    "    def func_wrap(*args,**kwargs):\n",
    "        print('Function {} started at {}'.format(function.__name__,datetime.datetime.now().isoformat()))\n",
    "        print('Following arguments were used:',args,kwargs)\n",
    "        result = function(*args,**kwargs)\n",
    "        return result\n",
    "    return func_wrap\n",
    "\n",
    "@CreateFunctionWithWrapper # Short way!\n",
    "def ChangeSalary(name,value,is_bonus = False):\n",
    "    print(f'CHANGING SALARY FOR {name} TO {value} AS BONUS = {is_bonus}')\n",
    "    return value\n",
    "\n",
    "#print(CreateFunctionWithWrapper(ChangeSalary('Smith', 2000, is_bonus = True)))\n",
    "print(ChangeSalary('Smith', 2000, is_bonus = True))\n"
   ]
  },
  {
   "cell_type": "markdown",
   "metadata": {},
   "source": [
    "Wrapper with parameter"
   ]
  },
  {
   "cell_type": "code",
   "execution_count": null,
   "metadata": {},
   "outputs": [],
   "source": [
    "import datetime, functools\n",
    "\n",
    "logFilepath = r'C:\\Python - skrypty\\Notatki do Pythona\\file.txt'\n",
    "\n",
    "def CreateFunctionWithWrapper(func):\n",
    "    def func_with_Wrapper(*args,**kwargs):\n",
    "        file = open(logFilepath, 'a')\n",
    "        file.write('-'*20 + '\\n')\n",
    "        file.write('Function \"{}\" started at {}\\n'.format(func.__name__,datetime.datetime.now().isoformat()))\n",
    "        file.write('Following arguments were used:\\n')\n",
    "        file.write(' '.join(\"{}\".format(x) for x in args))\n",
    "        file.write('\\n')\n",
    "        file.write(' '.join(\"{}={}\".format(k,v) for (k,v) in kwargs.items()))\n",
    "        file.write('\\n')\n",
    "        result = func(*args,**kwargs)\n",
    "        file.write('Function returned {}\\n'.format(result))\n",
    "        file.close()\n",
    "        return result\n",
    "    return func_with_Wrapper\n",
    "\n",
    "@CreateFunctionWithWrapper\n",
    "def ChangeSalary(name,value,is_bonus = False):\n",
    "    print(f'CHANGING SALARY FOR {name} TO {value} AS BONUS = {is_bonus}')\n",
    "    return value\n",
    "\n",
    "print(ChangeSalary('Smith', 20000, True ))\n",
    "print(ChangeSalary('Mort', 20000, is_bonus = True ))\n"
   ]
  },
  {
   "cell_type": "code",
   "execution_count": null,
   "metadata": {},
   "outputs": [],
   "source": [
    "import datetime, functools\n",
    "\n",
    "#logFilepath = r'C:\\Python - skrypty\\Notatki do Pythona\\file.txt'\n",
    "def CreateFunctionWithWrapper_LogToFile(logFilepath):\n",
    "    def CreateFunctionWithWrapper(func):\n",
    "        def func_with_Wrapper(*args,**kwargs):\n",
    "            file = open(logFilepath, 'a')\n",
    "            file.write('-'*20 + '\\n')\n",
    "            file.write('Function \"{}\" started at {}\\n'.format(func.__name__,datetime.datetime.now().isoformat()))\n",
    "            file.write('Following arguments were used:\\n')\n",
    "            file.write(' '.join(\"{}\".format(x) for x in args))\n",
    "            file.write('\\n')\n",
    "            file.write(' '.join(\"{}={}\".format(k,v) for (k,v) in kwargs.items()))\n",
    "            file.write('\\n')\n",
    "            result = func(*args,**kwargs)\n",
    "            file.write('Function returned {}\\n'.format(result))\n",
    "            file.close()\n",
    "            return result\n",
    "        return func_with_Wrapper\n",
    "    return CreateFunctionWithWrapper\n",
    "\n",
    "@CreateFunctionWithWrapper_LogToFile(r'C:\\Python - skrypty\\Notatki do Pythona\\salary_file.txt')\n",
    "def ChangeSalary(name,value,is_bonus = False):\n",
    "    print(f'CHANGING SALARY FOR {name} TO {value} AS BONUS = {is_bonus}')\n",
    "    return value\n",
    "\n",
    "@CreateFunctionWithWrapper_LogToFile(r'C:\\Python - skrypty\\Notatki do Pythona\\position_file.txt')\n",
    "def ChangePosition(name,new_position):\n",
    "    print(f'CHANGING POSITION FOR {name} TO {new_position}')\n",
    "    return new_position\n",
    "\n",
    "print(ChangeSalary('Smith', 20000, True ))\n",
    "print(ChangePosition('Halper', 'Manager'))\n"
   ]
  },
  {
   "cell_type": "markdown",
   "metadata": {},
   "source": [
    "Sending Email"
   ]
  },
  {
   "cell_type": "code",
   "execution_count": null,
   "metadata": {},
   "outputs": [],
   "source": [
    "import smtplib\n",
    "\n",
    "mailFrom = 'Your automation system'\n",
    "mailTo = ['lak45@wp.pl', 'lak45@wp.pl']\n",
    "mailSubject = 'Processing finished successfully'\n",
    "mailBody = '''Hello\n",
    "\n",
    "This message confirms that processing has finished without problems,\n",
    "\n",
    "Have a nice day!'''\n",
    "\n",
    "message = '''From: {}\n",
    "Subject: {}\n",
    "\n",
    "{}\n",
    "'''.format(mailFrom,mailSubject,mailBody)\n",
    "\n",
    "user = 'lak45@wp.pl'\n",
    "password = '*********'\n",
    "\n",
    "try:\n",
    "    server = smtplib.SMTP_SSL('smtp.wp.pl', 465)\n",
    "    server.ehlo()\n",
    "    server.login(user,password)\n",
    "    server.sendmail(user,mailTo,message)\n",
    "    server.close()\n",
    "except:\n",
    "    print('Error sending mail!')"
   ]
  },
  {
   "cell_type": "code",
   "execution_count": null,
   "metadata": {},
   "outputs": [],
   "source": [
    "import smtplib, functools\n",
    "\n",
    "def SendInfoEmail(user, password, mailFrom, mailTo, mailSubject, mailBody):\n",
    "    message = '''From: {}\n",
    "    Subject: {}\n",
    "\n",
    "    {}\n",
    "    '''.format(mailFrom,mailSubject,mailBody)\n",
    "\n",
    "    try:\n",
    "        server = smtplib.SMTP_SSL('smtp.wp.pl', 465)\n",
    "        server.ehlo()\n",
    "        server.login(user,password)\n",
    "        server.sendmail(user,mailTo,message)\n",
    "        server.close()\n",
    "        return True\n",
    "    except:\n",
    "        print('Error sending mail!')\n",
    "        return False\n",
    "\n",
    "user = 'lak45@wp.pl'\n",
    "password = '*********'\n",
    "\n",
    "mailFrom = 'Your automation system'\n",
    "mailTo = ['lak45@wp.pl', 'lak45@wp.pl']\n",
    "mailSubject = 'Processing finished successfully'\n",
    "mailBody = '''Hello\n",
    "\n",
    "This message confirms that processing has finished without problems,\n",
    "\n",
    "Have a nice day!'''\n",
    "\n",
    "SendInfoEmailFromWP = functools.partial(SendInfoEmail, user, password)\n",
    "SendInfoEmailFromWP(mailFrom, mailTo, mailSubject, mailBody)"
   ]
  },
  {
   "cell_type": "markdown",
   "metadata": {},
   "source": [
    "Optymalizacja cache()"
   ]
  },
  {
   "cell_type": "code",
   "execution_count": null,
   "metadata": {},
   "outputs": [],
   "source": [
    "import time, functools\n",
    "\n",
    "@functools.lru_cache()\n",
    "def Factorial(n):\n",
    "    time.sleep(0.1)\n",
    "    if n == 1:\n",
    "        return 1\n",
    "    else:\n",
    "        return n * Factorial(n-1)\n",
    "start = time.time()   \n",
    "for i in range(1,11):\n",
    "    print('{}!={}'.format(i, Factorial(i)))\n",
    "stop = time.time()   \n",
    "print('Time: ',stop-start)\n",
    "\n",
    "print(Factorial.cache_info())"
   ]
  },
  {
   "cell_type": "markdown",
   "metadata": {},
   "source": [
    "LAMBDA functions"
   ]
  },
  {
   "cell_type": "code",
   "execution_count": null,
   "metadata": {},
   "outputs": [],
   "source": [
    "f = lambda x: x**2\n",
    "x = 10\n",
    "print(f(x))\n",
    "\n",
    "list_numbers = [1,2,3,4,11,14,15,20,21]\n",
    "\n",
    "filtered_list = list(filter(lambda x: x%2 != 0, list_numbers))\n",
    "print(filtered_list)\n",
    "\n",
    "def generate_function(n):\n",
    "    return lambda x: n*x\n",
    "\n",
    "mul_5 = generate_function(5)\n",
    "mul_4 = generate_function(4)\n",
    "\n",
    "print(mul_4(5),mul_5(5))"
   ]
  },
  {
   "cell_type": "markdown",
   "metadata": {},
   "source": [
    "Classes - checking if object is instance of the class"
   ]
  },
  {
   "cell_type": "code",
   "execution_count": null,
   "metadata": {},
   "outputs": [],
   "source": [
    "class Car:\n",
    "    def __init__(self, brand, cartype,isDamaged,isMechanicOK,isAirBagOK):\n",
    "        self.brand = brand\n",
    "        self.cartype = cartype\n",
    "        self.isDamaged = isDamaged\n",
    "        self.isMechanicOK = isMechanicOK\n",
    "        self.isAirBagOK = isAirBagOK\n",
    "    \n",
    "    def GetInfo(self):\n",
    "        print(f'{self.brand} {self.cartype}'.capitalize())\n",
    "        print(f'Is Damaged \\t {self.isDamaged}')\n",
    "        print(f'Is mechanic OK? : \\t {self.isMechanicOK}')\n",
    "        print(f'Is AirBag OK? : {self.isAirBagOK}')\n",
    "\n",
    "car_01 = Car('Seat', 'Ibiza', True, True, True)\n",
    "car_02 = Car('Opel', 'Corsa', True, False, True)\n",
    "\n",
    "print(isinstance(car_01,Car)) # checking if object belongs to class\n",
    "print(type(car_01) is Car) # checking if object belongs to class using type()\n",
    "print(car_01.__class__) # checking what class the object belongs to \n",
    "\n",
    "print(vars(car_01)) #prints list of instance atributes with values\n",
    "print(vars(Car))\n",
    "\n",
    "print(dir(car_01)) #prints list of instance atributes with values\n",
    "print(dir(Car))"
   ]
  },
  {
   "cell_type": "markdown",
   "metadata": {},
   "source": [
    "Ukrywanie atrybutów funkcji"
   ]
  },
  {
   "cell_type": "code",
   "execution_count": null,
   "metadata": {},
   "outputs": [],
   "source": [
    "class Car:\n",
    "    def __init__(self, brand, cartype,isDamaged,isMechanicOK,isAirBagOK, isOnSale):\n",
    "        self.brand = brand\n",
    "        self.cartype = cartype\n",
    "        self.isDamaged = isDamaged\n",
    "        self.isMechanicOK = isMechanicOK\n",
    "        self.isAirBagOK = isAirBagOK\n",
    "        self.__isOnSale = isOnSale # ukryte, nie da się zmodyfikować\n",
    "    \n",
    "    def GetInfo(self):\n",
    "        print(f'{self.brand} {self.cartype}'.capitalize())\n",
    "        print(f'Is Damaged:  {self.isDamaged}')\n",
    "        print(f'Is mechanic OK? :  {self.isMechanicOK}')\n",
    "        print(f'Is AirBag OK? : {self.isAirBagOK}')\n",
    "        print(f'Is on Sale? : {self.__isOnSale}')\n",
    "        return str('')\n",
    "\n",
    "car_01 = Car('Seat', 'Ibiza', True, True, True, False)\n",
    "car_02 = Car('Opel', 'Corsa', True, False, True, True)\n",
    "\n",
    "print(car_01.GetInfo())\n",
    "print(car_02.GetInfo())\n",
    "\n",
    "# car_02._Car__isOnSale' = False #Change atribute of the class\n",
    "\n",
    "print(vars(car_02))\n",
    "\n",
    "setattr(car_02, 'TAXI', False)\n",
    "print(hasattr(car_02,'TAXI'))\n",
    "\n",
    "print(vars(car_02))"
   ]
  },
  {
   "cell_type": "markdown",
   "metadata": {},
   "source": [
    "Tworzenie właściwości property"
   ]
  },
  {
   "cell_type": "code",
   "execution_count": null,
   "metadata": {},
   "outputs": [],
   "source": [
    "promotion_brand = 'Opel'\n",
    "class Car:\n",
    "    def __init__(self, brand, cartype,isDamaged,isMechanicOK,isAirBagOK, isOnSale):\n",
    "        self.brand = brand\n",
    "        self.cartype = cartype\n",
    "        self.isDamaged = isDamaged\n",
    "        self.isMechanicOK = isMechanicOK\n",
    "        self.isAirBagOK = isAirBagOK\n",
    "        self.__isOnSale = isOnSale # ukryte, nie da się zmodyfikować\n",
    "    \n",
    "    def GetInfo(self):\n",
    "        print(f'{self.brand} {self.cartype}'.capitalize())\n",
    "        print(f'Is Damaged:  {self.isDamaged}')\n",
    "        print(f'Is mechanic OK? :  {self.isMechanicOK}')\n",
    "        print(f'Is AirBag OK? : {self.isAirBagOK}')\n",
    "        print(f'Is on Sale? : {self.__isOnSale}')\n",
    "\n",
    "    def __GetIsOnSale(self):\n",
    "        return self.__isOnSale\n",
    "    \n",
    "    def __SetIsOnSale(self, newIsOnSaleStatus):\n",
    "        if self.brand == promotion_brand:\n",
    "            self.__isOnSale = newIsOnSaleStatus\n",
    "            print(f'Changing status IsOnSale to {newIsOnSaleStatus} for {self.brand}')\n",
    "        else: print('Cannot Change status!')\n",
    "    \n",
    "    IsOnSale = property (__GetIsOnSale, __SetIsOnSale, None, None)\n",
    "\n",
    "\n",
    "car_01 = Car('Seat', 'Ibiza', True, True, True, False)\n",
    "car_02 = Car('Opel', 'Corsa', True, False, True, True)\n",
    "\n",
    "car_01.IsOnSale = True\n",
    "car_02.IsOnSale = True\n"
   ]
  },
  {
   "cell_type": "markdown",
   "metadata": {},
   "source": [
    "Metody instancji klasy, metody klasy i metody statyczne"
   ]
  },
  {
   "cell_type": "code",
   "execution_count": null,
   "metadata": {},
   "outputs": [],
   "source": [
    "promotion_brand = 'Opel'\n",
    "class Car:\n",
    "    def __init__(self, brand, cartype,isDamaged,isMechanicOK,isAirBagOK, isOnSale):\n",
    "        self.brand = brand\n",
    "        self.cartype = cartype\n",
    "        self.isDamaged = isDamaged\n",
    "        self.isMechanicOK = isMechanicOK\n",
    "        self.isAirBagOK = isAirBagOK\n",
    "        self.__isOnSale = isOnSale # ukryte, nie da się zmodyfikować\n",
    "    \n",
    "    def GetInfo(self):\n",
    "        print(f'{self.brand} {self.cartype}'.capitalize())\n",
    "        print(f'Is Damaged:  {self.isDamaged}')\n",
    "        print(f'Is mechanic OK? :  {self.isMechanicOK}')\n",
    "        print(f'Is AirBag OK? : {self.isAirBagOK}')\n",
    "        print(f'Is on Sale? : {self.__isOnSale}')\n",
    "        print(f'='*25)\n",
    "\n",
    "    def __GetIsOnSale(self):\n",
    "        return self.__isOnSale\n",
    "    \n",
    "    def __SetIsOnSale(self, newIsOnSaleStatus):\n",
    "        if self.brand == promotion_brand:\n",
    "            self.__isOnSale = newIsOnSaleStatus\n",
    "            print(f'Changing status IsOnSale to {newIsOnSaleStatus} for {self.brand}')\n",
    "        else: print('Cannot Change status!')\n",
    "    \n",
    "    IsOnSale = property (__GetIsOnSale, __SetIsOnSale, None, None)\n",
    "\n",
    "    @classmethod\n",
    "    def ReadFromText(cls, aText):\n",
    "        aNewCar = cls(*aText.split(':')) # We don't want to add a list, but the values from these list\n",
    "        return aNewCar\n",
    "    \n",
    "    @staticmethod\n",
    "    def Convert_KM_to_KW(KM):\n",
    "        return KM*0.735\n",
    "    \n",
    "    @staticmethod\n",
    "    def Convert_KW_to_KM(KW):\n",
    "        return KW*1.36\n",
    "\n",
    "car_01 = Car('Seat', 'Ibiza', True, True, True, False)\n",
    "car_02 = Car('Opel', 'Corsa', True, False, True, True)\n",
    "\n",
    "line_of_Text ='Renault:Meghane:True:True:False:False'\n",
    "\n",
    "car_03 = Car.ReadFromText(line_of_Text)\n",
    "car_03.GetInfo()\n",
    "\n",
    "print('Converting 120 KM to KW:',Car.Convert_KM_to_KW(120))\n",
    "print('Converting 90 KW to KM:',Car.Convert_KW_to_KM(90))\n"
   ]
  },
  {
   "cell_type": "markdown",
   "metadata": {},
   "source": [
    "Właściwości za pomocą dekoratorów"
   ]
  },
  {
   "cell_type": "code",
   "execution_count": null,
   "metadata": {},
   "outputs": [],
   "source": [
    "promotion_brand = 'Opel'\n",
    "class Car:\n",
    "    def __init__(self, brand, cartype,isDamaged,isMechanicOK,isAirBagOK, isOnSale):\n",
    "        self.brand = brand\n",
    "        self.cartype = cartype\n",
    "        self.isDamaged = isDamaged\n",
    "        self.isMechanicOK = isMechanicOK\n",
    "        self.isAirBagOK = isAirBagOK\n",
    "        self.__isOnSale = isOnSale # ukryte, nie da się zmodyfikować\n",
    "        \n",
    "    @property\n",
    "    def IsOnSale(self):\n",
    "        return self.__isOnSale\n",
    "\n",
    "    @IsOnSale.setter\n",
    "    def IsOnSale(self, newIsOnSaleStatus):\n",
    "        if self.brand == promotion_brand:\n",
    "            self.__isOnSale = newIsOnSaleStatus\n",
    "            print(f'Changing status IsOnSale to {newIsOnSaleStatus} for {self.brand}')\n",
    "        else: print('Cannot Change status!')\n",
    "\n",
    "    @IsOnSale.deleter\n",
    "    def IsOnSale(self):\n",
    "        self.__isOnSale = None\n",
    "\n",
    "    @property\n",
    "    def CarTitle(self):\n",
    "        return f'Brand: {self.brand}, Model: {self.cartype}'.title()\n",
    "\n",
    "car_01 = Car('Seat', 'Ibiza', True, True, True, False)\n",
    "print(car_01.IsOnSale)\n",
    "car_01.IsOnSale = True \n",
    "del car_01.IsOnSale\n",
    "print(car_01.IsOnSale)\n",
    "print(car_01.CarTitle)\n"
   ]
  },
  {
   "cell_type": "code",
   "execution_count": 24,
   "metadata": {},
   "outputs": [
    {
     "name": "stdout",
     "output_type": "stream",
     "text": [
      "Static==========\n",
      "XXX\n",
      "Class==========\n",
      "YYY\n",
      "Instance==========\n",
      "ZZZ\n",
      "['Export_to_File_Class', 'Export_to_File_Instance', 'Export_to_File_Static', 'IsOnSale', '_Car__GetIsOnSale', '_Car__SetIsOnSale', '_Car__isOnSale', '__class__', '__delattr__', '__dict__', '__dir__', '__doc__', '__eq__', '__format__', '__ge__', '__getattribute__', '__getstate__', '__gt__', '__hash__', '__init__', '__init_subclass__', '__le__', '__lt__', '__module__', '__ne__', '__new__', '__reduce__', '__reduce_ex__', '__repr__', '__setattr__', '__sizeof__', '__str__', '__subclasshook__', '__weakref__', 'brand', 'cartype', 'isAirBagOK', 'isDamaged', 'isMechanicOK', 'listofCars', 'numberofCars']\n",
      "--------------------------------------------------\n",
      "TRUE\n",
      "TRUE\n",
      "TRUE\n",
      "No such method!\n"
     ]
    }
   ],
   "source": [
    "import csv, types\n",
    "promotion_brand = 'Opel'\n",
    "class Car:\n",
    "    numberofCars = 0\n",
    "    listofCars = []\n",
    "\n",
    "    def __init__(self, brand, cartype,isDamaged,isMechanicOK,isAirBagOK, isOnSale):\n",
    "        self.brand = brand\n",
    "        self.cartype = cartype\n",
    "        self.isDamaged = isDamaged\n",
    "        self.isMechanicOK = isMechanicOK\n",
    "        self.isAirBagOK = isAirBagOK\n",
    "        self.__isOnSale = isOnSale # ukryte, nie da się zmodyfikować\n",
    "        Car.numberofCars +=1\n",
    "        Car.listofCars.append(self)\n",
    "\n",
    "        \n",
    "    def __GetIsOnSale(self):\n",
    "        return self.__isOnSale\n",
    "    \n",
    "    def __SetIsOnSale(self, newIsOnSaleStatus):\n",
    "        if self.brand == promotion_brand:\n",
    "            self.__isOnSale = newIsOnSaleStatus\n",
    "            print(f'Changing status IsOnSale to {newIsOnSaleStatus} for {self.brand}')\n",
    "        else: print('Cannot Change status!')\n",
    "    \n",
    "    IsOnSale = property (__GetIsOnSale, __SetIsOnSale, None, None)\n",
    "\n",
    "    def Export_to_File_Static(path, header, data): #path ścieżka dostępu # lista nagłówków wartości # lista wartości\n",
    "        with open (path, 'w+') as file:\n",
    "            writer = csv.writer(file, delimiter = ',', quotechar = '\"', quoting = csv.QUOTE_MINIMAL) #rozdzielane przecinkiem zamknięte w cudzysłów to te co miały przecinek w sobie\n",
    "            writer.writerow(header)\n",
    "            writer.writerow(data)\n",
    "            print('XXX')\n",
    "\n",
    "\n",
    "    def Export_to_File_Class(cls,path): #path ścieżka dostępu # lista nagłówków wartości # lista wartości\n",
    "        with open (path, 'w+') as file:\n",
    "            writer = csv.writer(file, delimiter = ',', quotechar = '\"', quoting = csv.QUOTE_MINIMAL) #rozdzielane przecinkiem zamknięte w cudzysłów to te co miały przecinek w sobie\n",
    "            writer.writerow(['brand','model','IsOnSale'])\n",
    "            for i in cls.listofCars:\n",
    "                writer.writerow([i.brand,i.cartype,i.IsOnSale])\n",
    "            print('YYY')\n",
    "\n",
    "    def Export_to_File_Instance(self,path): #path ścieżka dostępu # lista nagłówków wartości # lista wartości\n",
    "        with open (path, 'w+') as file:\n",
    "            writer = csv.writer(file, delimiter = ',', quotechar = '\"', quoting = csv.QUOTE_MINIMAL) #rozdzielane przecinkiem zamknięte w cudzysłów to te co miały przecinek w sobie\n",
    "            writer.writerow(['brand','model','IsOnSale'])\n",
    "            writer.writerow([self.brand,self.cartype,self.IsOnSale])\n",
    "            print('ZZZ')\n",
    "\n",
    "car_01 = Car('Seat', 'Ibiza', True, True, True, False)\n",
    "car_02 = Car('Opel', 'Corsa', True, False, True, True)\n",
    "\n",
    "print('Static'+'='*10)\n",
    "Car.Export_to_File_Static(r'C:\\Python - skrypty\\Notatki do Pythona\\export_file.csv', ['Brand', 'Model', 'IsOnSale'],[car_01.brand,car_01.cartype,car_01.IsOnSale])\n",
    "print('Class'+'='*10)\n",
    "Car.Export_to_File_Class = types.MethodType(Car.Export_to_File_Class,Car)\n",
    "Car.Export_to_File_Class(r'C:\\Python - skrypty\\Notatki do Pythona\\export_file_class.csv')\n",
    "print('Instance'+'='*10)\n",
    "Car.Export_to_File_Instance = types.MethodType(Car.Export_to_File_Instance, car_01)\n",
    "Car.Export_to_File_Instance(r'C:\\Python - skrypty\\Notatki do Pythona\\export_file_Instance.csv')\n",
    "\n",
    "print('-'*50)\n",
    "\n",
    "if hasattr(car_01, 'Export_to_File_Static') and callable(car_01.Export_to_File_Static):\n",
    "    print('TRUE')\n",
    "if hasattr(car_01, 'Export_to_File_Class') and callable(car_01.Export_to_File_Class):\n",
    "    print('TRUE')\n",
    "if hasattr(car_01, 'Export_to_File_Instance') and callable(car_01.Export_to_File_Instance):\n",
    "    print('TRUE')\n",
    "if hasattr(car_01, 'Export_to_File_InstanceXXX') and callable(car_01.Export_to_File_InstanceXXX):\n",
    "    print('TRUE')\n",
    "else: print('No such method!')\n",
    "\n",
    "\n"
   ]
  },
  {
   "cell_type": "markdown",
   "metadata": {},
   "source": [
    "Callable class"
   ]
  },
  {
   "cell_type": "code",
   "execution_count": 1,
   "metadata": {},
   "outputs": [
    {
     "name": "stdout",
     "output_type": "stream",
     "text": [
      "List of items in memory:  []\n",
      "List of items in memory:  ['buy sugar']\n",
      "This class is callable:  True\n",
      "This class is callable:  False\n"
     ]
    }
   ],
   "source": [
    "class MemoryClass:\n",
    "\n",
    "    def __init__(self, list):\n",
    "        self.list_of_items = list\n",
    "\n",
    "mem = MemoryClass([])\n",
    "print('List of items in memory: ', mem.list_of_items)\n",
    "\n",
    "mem.list_of_items.append('buy sugar')\n",
    "print('List of items in memory: ', mem.list_of_items)\n",
    "\n",
    "print('This class is callable: ', callable(MemoryClass))\n",
    "print('This class is callable: ', callable(mem))"
   ]
  },
  {
   "cell_type": "code",
   "execution_count": 2,
   "metadata": {},
   "outputs": [
    {
     "name": "stdout",
     "output_type": "stream",
     "text": [
      "List of items in memory:  []\n",
      "List of items in memory:  ['buy milk', 'buy coffee']\n",
      "This class is callable:  True\n",
      "This class is callable:  True\n"
     ]
    }
   ],
   "source": [
    "class MemoryClass:\n",
    "\n",
    "    def __init__(self, list):\n",
    "        self.list_of_items = list\n",
    "    \n",
    "    def __call__(self,item):\n",
    "        self.list_of_items.append(item)\n",
    "\n",
    "mem = MemoryClass([])\n",
    "print('List of items in memory: ', mem.list_of_items)\n",
    "mem('buy milk')\n",
    "mem('buy coffee')\n",
    "print('List of items in memory: ', mem.list_of_items)\n",
    "\n",
    "print('This class is callable: ', callable(MemoryClass))\n",
    "print('This class is callable: ', callable(mem))"
   ]
  },
  {
   "cell_type": "code",
   "execution_count": 3,
   "metadata": {},
   "outputs": [
    {
     "name": "stdout",
     "output_type": "stream",
     "text": [
      "Promotion:  Porsche\n",
      "Show:  Mercedes\n",
      "Free accesories:  Ford\n"
     ]
    }
   ],
   "source": [
    "import random\n",
    "\n",
    "cars = ['Opel','Toyota', 'Fiat','Ford','Reanult','Mercedes','BMW','Puegot','Porsche','Audi','VW','Mazda']\n",
    "\n",
    "def Select_today_promotion(list_of_cars):\n",
    "    return random.choice(list_of_cars)\n",
    "\n",
    "def Select_today_show(list_of_cars):\n",
    "    return random.choice(list_of_cars)\n",
    "\n",
    "def Select_free_accessories(list_of_cars):\n",
    "    return random.choice(list_of_cars)\n",
    "\n",
    "print('Promotion: ', Select_today_promotion(cars))\n",
    "print('Show: ', Select_today_show(cars))\n",
    "print('Free accesories: ', Select_free_accessories(cars))"
   ]
  },
  {
   "cell_type": "code",
   "execution_count": 4,
   "metadata": {},
   "outputs": [
    {
     "name": "stdout",
     "output_type": "stream",
     "text": [
      "Promotion:  Reanult\n",
      "Show:  Fiat\n",
      "Free accesories:  Mercedes\n"
     ]
    }
   ],
   "source": [
    "import random\n",
    "\n",
    "\n",
    "class MemoryClass:\n",
    "\n",
    "    list_of_already_selected_items = []\n",
    "\n",
    "    def __init__(self,function):\n",
    "        self.funct = function\n",
    "    \n",
    "    def __call__(self, list):\n",
    "        items_not_selected = [i for i in list if i not in MemoryClass.list_of_already_selected_items]\n",
    "        item = self.funct(items_not_selected)\n",
    "        MemoryClass.list_of_already_selected_items.append(item)\n",
    "        return item\n",
    "\n",
    "cars = ['Opel','Toyota', 'Fiat','Ford','Reanult','Mercedes','BMW','Puegot','Porsche','Audi','VW','Mazda']\n",
    "\n",
    "@MemoryClass\n",
    "def Select_today_promotion(list_of_cars):\n",
    "    return random.choice(list_of_cars)\n",
    "\n",
    "@MemoryClass\n",
    "def Select_today_show(list_of_cars):\n",
    "    return random.choice(list_of_cars)\n",
    "\n",
    "@MemoryClass\n",
    "def Select_free_accessories(list_of_cars):\n",
    "    return random.choice(list_of_cars)\n",
    "\n",
    "print('Promotion: ', Select_today_promotion(cars))\n",
    "print('Show: ', Select_today_show(cars))\n",
    "print('Free accesories: ', Select_free_accessories(cars))"
   ]
  },
  {
   "cell_type": "code",
   "execution_count": 3,
   "metadata": {},
   "outputs": [
    {
     "name": "stdout",
     "output_type": "stream",
     "text": [
      "Seat ibiza\n",
      "Is Damaged:  True\n",
      "Is mechanic OK? :  True\n",
      "Is AirBag OK? : True\n",
      "Is there accessories? : ['winter tires']\n",
      "=========================\n",
      "Seat ibiza\n",
      "Is Damaged:  True\n",
      "Is mechanic OK? :  True\n",
      "Is AirBag OK? : True\n",
      "Is there accessories? : ['winter tires', 'roof rack', 'GPS', 'loudspeeker system']\n",
      "=========================\n"
     ]
    }
   ],
   "source": [
    "class Car:\n",
    "\n",
    "    def __init__(self, brand, cartype,isDamaged,isMechanicOK,isAirBagOK, accessories):\n",
    "        self.brand = brand\n",
    "        self.cartype = cartype\n",
    "        self.isDamaged = isDamaged\n",
    "        self.isMechanicOK = isMechanicOK\n",
    "        self.isAirBagOK = isAirBagOK\n",
    "        self.accessories = accessories\n",
    "    \n",
    "    def GetInfo(self):\n",
    "        print(f'{self.brand} {self.cartype}'.capitalize())\n",
    "        print(f'Is Damaged:  {self.isDamaged}')\n",
    "        print(f'Is mechanic OK? :  {self.isMechanicOK}')\n",
    "        print(f'Is AirBag OK? : {self.isAirBagOK}')\n",
    "        print(f'Is there accessories? : {self.accessories}')\n",
    "        print(f'='*25)\n",
    "\n",
    "    def __iadd__(self,other):\n",
    "        accessories = self.accessories\n",
    "        if isinstance(other,list):\n",
    "            accessories.extend(other)\n",
    "        elif isinstance(other,str):\n",
    "            accessories.append(other)\n",
    "        else: raise Exception(f'Type {type(accessories)} is not implemented!')\n",
    "\n",
    "        return Car(self.brand,self.cartype,self.isDamaged,self.isMechanicOK,self.isAirBagOK,self.accessories)\n",
    "\n",
    "\n",
    "\n",
    "car_01 = Car('Seat', 'Ibiza', True, True, True,['winter tires'])\n",
    "car_01.GetInfo()\n",
    "car_02 = Car('Opel', 'Corsa', True, False, True, [''])\n",
    "\n",
    "car_01 += ['roof rack', 'GPS']\n",
    "car_01 += 'loudspeeker system'\n",
    "car_01.GetInfo()\n"
   ]
  },
  {
   "cell_type": "code",
   "execution_count": 5,
   "metadata": {},
   "outputs": [
    {
     "name": "stdout",
     "output_type": "stream",
     "text": [
      "Seat ibiza\n",
      "Is Damaged:  True\n",
      "Is mechanic OK? :  True\n",
      "Is AirBag OK? : True\n",
      "Is there accessories? : ['winter tires', 'roof rack', 'GPS', 'loudspeeker system']\n",
      "=========================\n",
      "Cars:  Seat Opel\n",
      "Brand: Opel Model: Corsa\n"
     ]
    }
   ],
   "source": [
    "class Car:\n",
    "\n",
    "    def __init__(self, brand, cartype,isDamaged,isMechanicOK,isAirBagOK, accessories):\n",
    "        self.brand = brand\n",
    "        self.cartype = cartype\n",
    "        self.isDamaged = isDamaged\n",
    "        self.isMechanicOK = isMechanicOK\n",
    "        self.isAirBagOK = isAirBagOK\n",
    "        self.accessories = accessories\n",
    "    \n",
    "    def GetInfo(self):\n",
    "        print(f'{self.brand} {self.cartype}'.capitalize())\n",
    "        print(f'Is Damaged:  {self.isDamaged}')\n",
    "        print(f'Is mechanic OK? :  {self.isMechanicOK}')\n",
    "        print(f'Is AirBag OK? : {self.isAirBagOK}')\n",
    "        print(f'Is there accessories? : {self.accessories}')\n",
    "        print(f'='*25)\n",
    "\n",
    "    def __iadd__(self,other):\n",
    "        accessories = self.accessories\n",
    "        if isinstance(other,list):\n",
    "            accessories.extend(other)\n",
    "        elif isinstance(other,str):\n",
    "            accessories.append(other)\n",
    "        else: raise Exception(f'Type {type(accessories)} is not implemented!')\n",
    "\n",
    "        return Car(self.brand,self.cartype,self.isDamaged,self.isMechanicOK,self.isAirBagOK,self.accessories)\n",
    "\n",
    "    def __add__(self,other):\n",
    "        if type(other) is Car:\n",
    "            return [self, other]\n",
    "        else: raise Exception(f'Type {type(other)} is not implemented!')\n",
    "    \n",
    "    def __str__(self):\n",
    "        return f'Brand: {self.brand} Model: {self.cartype}'\n",
    "\n",
    "\n",
    "car_01 = Car('Seat', 'Ibiza', True, True, True,['winter tires'])\n",
    "car_02 = Car('Opel', 'Corsa', True, False, True, [''])\n",
    "\n",
    "car_01 += ['roof rack', 'GPS']\n",
    "car_01 += 'loudspeeker system'\n",
    "car_01.GetInfo()\n",
    "\n",
    "car_pack = car_01 + car_02\n",
    "\n",
    "print('Cars: ', car_pack[0].brand, car_pack[1].brand)\n",
    "print(car_02)"
   ]
  },
  {
   "cell_type": "markdown",
   "metadata": {},
   "source": [
    "Inheritance"
   ]
  },
  {
   "cell_type": "code",
   "execution_count": 9,
   "metadata": {},
   "outputs": [
    {
     "name": "stdout",
     "output_type": "stream",
     "text": [
      "Ford 1600\n",
      "Reanult trafic\n",
      "Is Damaged:  True\n",
      "Is mechanic OK? :  False\n",
      "Is AirBag OK? : True\n",
      "Is on Sale? : True\n",
      "Capacity in Kg: 1200\n"
     ]
    }
   ],
   "source": [
    "promotion_brand = 'Opel'\n",
    "class Car:\n",
    "    def __init__(self, brand, cartype,isDamaged,isMechanicOK,isAirBagOK, isOnSale):\n",
    "        self.brand = brand\n",
    "        self.cartype = cartype\n",
    "        self.isDamaged = isDamaged\n",
    "        self.isMechanicOK = isMechanicOK\n",
    "        self.isAirBagOK = isAirBagOK\n",
    "        self.__isOnSale = isOnSale # ukryte, nie da się zmodyfikować\n",
    "    \n",
    "    def GetInfo(self):\n",
    "        print(f'{self.brand} {self.cartype}'.capitalize())\n",
    "        print(f'Is Damaged:  {self.isDamaged}')\n",
    "        print(f'Is mechanic OK? :  {self.isMechanicOK}')\n",
    "        print(f'Is AirBag OK? : {self.isAirBagOK}')\n",
    "        print(f'Is on Sale? : {self.__isOnSale}')\n",
    "\n",
    "    def __GetIsOnSale(self):\n",
    "        return self.__isOnSale\n",
    "    \n",
    "    def __SetIsOnSale(self, newIsOnSaleStatus):\n",
    "        if self.brand == promotion_brand:\n",
    "            self.__isOnSale = newIsOnSaleStatus\n",
    "            print(f'Changing status IsOnSale to {newIsOnSaleStatus} for {self.brand}')\n",
    "        else: print('Cannot Change status!')\n",
    "    \n",
    "    IsOnSale = property (__GetIsOnSale, __SetIsOnSale, None, None)\n",
    "\n",
    "\n",
    "class Truck(Car):\n",
    "    def __init__(self,brand, cartype,isDamaged,isMechanicOK,isAirBagOK, isOnSale, capacityKg):\n",
    "        super().__init__(brand, cartype,isDamaged,isMechanicOK,isAirBagOK, isOnSale)\n",
    "        self.capacityKg = capacityKg\n",
    "    \n",
    "    def GetInfo(self):\n",
    "        super().GetInfo() # wywołujemy GetInfo z klasy Car\n",
    "        print(f'Capacity in Kg: {self.capacityKg}')\n",
    "\n",
    "\n",
    "\n",
    "truck_01 = Truck('Ford', 'Transit', True, True, True, False,1600)\n",
    "truck_02 = Truck('Reanult', 'Trafic', True, False, True, True,1200)\n",
    "\n",
    "print(truck_01.brand,truck_01.capacityKg)\n",
    "truck_02.GetInfo()\n"
   ]
  },
  {
   "cell_type": "code",
   "execution_count": null,
   "metadata": {},
   "outputs": [],
   "source": [
    "class Car:\n",
    "    def __init__(self, brand, cartype, isOnSale):\n",
    "        print('>>>Class Car - init - start')\n",
    "        self.brand = brand\n",
    "        self.cartype = cartype\n",
    "        self.isOnSale = isOnSale \n",
    "        print('>>>Class Car - init - finish')\n",
    "    \n",
    "    def GetInfo(self):\n",
    "        print('>>>Class Car - getinfo - start')\n",
    "        super().GetInfo()\n",
    "        print(f'{self.brand} {self.cartype}'.capitalize())\n",
    "        print(f'Is on Sale? : {self.isOnSale}')\n",
    "        print('>>>Class Car - getinfo - finish')\n",
    "\n",
    "\n",
    "class Specialist:\n",
    "   \n",
    "    'name and surname of the specialist'\n",
    "   \n",
    "    def __init__(self,firstname,lastname, brand):\n",
    "        print('>>>Class Specialist - init - start')\n",
    "        self.firstname = firstname\n",
    "        self.lastname = lastname\n",
    "        self.name = f'{firstname} {lastname}'\n",
    "        self.brand = brand\n",
    "        print('>>>Class Specialist - init - finish')\n",
    "\n",
    "    def GetInfo(self):\n",
    "        print('>>>Class Specialist - getinfo - start')\n",
    "        print(f'{self.firstname} {self.lastname} - {self.brand}')\n",
    "        print('>>>Class Specialist - getinfo - finish')\n",
    "\n",
    "class CarSpecialist(Car, Specialist):\n",
    "\n",
    "    def __init__(self, brand, cartype, isOnSale, firstname, lastname):\n",
    "        print('>>>Class CarSpecialist - init - start')\n",
    "        Car.__init__(self,brand, cartype, isOnSale)\n",
    "        Specialist.__init__(self, firstname, lastname, brand.upper())\n",
    "        print('>>>Class CarSpecialist - init - finish')\n",
    "    \n",
    "    def GetInfo(self):\n",
    "        print('>>>Class CarSpecialist - getinfo - start')\n",
    "        super().GetInfo()\n",
    "        print('>>>Class CarSpecialist - getinfo - finish')\n",
    "\n",
    "\n",
    "tom = CarSpecialist('Toyota', 'Corolla', True, 'Tom', 'Smith')\n",
    "print(vars(tom))\n",
    "#tom.GetInfo()\n",
    "help(Specialist)\n",
    "#print(CarSpecialist.__mro__)\n",
    "\n",
    "\n",
    "\n"
   ]
  },
  {
   "cell_type": "markdown",
   "metadata": {},
   "source": [
    "Exceptions"
   ]
  },
  {
   "cell_type": "markdown",
   "metadata": {},
   "source": [
    "wyjątki piszemy w bloku try/except try = instrukcja, która próbuje się wykonać\n",
    "except - to co się wykona kiedy wystąpi błąd\n",
    "else: wykona się wtedy, kiedy nie wystąpi błąd\n",
    "finally: wykona się niezależnie od tego, czy wystąpił błąd czy nie"
   ]
  },
  {
   "cell_type": "code",
   "execution_count": null,
   "metadata": {},
   "outputs": [],
   "source": [
    "import requests\n",
    "import os\n",
    "import shutil\n",
    " \n",
    "def save_url_to_file(url, file_path):\n",
    "       \n",
    "    r = requests.get(url, stream = True)     \n",
    "    with open(file_path, \"wb\") as f: \n",
    "        f.write(r.content)\n",
    "\n",
    "url = 'http://www.mobilo24.eu/spis/'\n",
    "dir = 'C:\\Python - skrypty'\n",
    "tmpfile = 'download.tmp'\n",
    "file = 'spis.html'\n",
    " \n",
    "tmpfile_path = os.path.join(dir, tmpfile)\n",
    "file_path = os.path.join(dir, file)\n",
    "\n",
    "try:\n",
    "    if os.path.exists(tmpfile_path):\n",
    "        print(f'Removing {tmpfile_path}')\n",
    "        os.remove(tmpfile_path)\n",
    "\n",
    "    print(f'Downloading {url}')\n",
    "    save_url_to_file(url, tmpfile_path)\n",
    "\n",
    "    print('Copying file {} {}'.format(tmpfile_path, file_path))\n",
    "    shutil.copy(tmpfile_path, file_path)\n",
    "\n",
    "except Exception as e: \n",
    "    print('An Error has occured!')\n",
    "    print(f'Details of an error: {e}')\n",
    "\n",
    "finally:\n",
    "    if os.path.exists(tmpfile_path):\n",
    "        print(f'Removing {tmpfile_path}')\n",
    "        os.remove(tmpfile_path)\n",
    "    print('Done!')"
   ]
  },
  {
   "cell_type": "code",
   "execution_count": 1,
   "metadata": {},
   "outputs": [
    {
     "name": "stdout",
     "output_type": "stream",
     "text": [
      "There is a problem with entered value for ratio - it must be a number.\n",
      " Detail: could not convert string to float: '0,2'\n"
     ]
    }
   ],
   "source": [
    "clients = {\n",
    "    'INFO' : 0.5,\n",
    "    'DATA' : 0.2,\n",
    "    'SOFT' : 0.2,\n",
    "    'INTER': 0.1,\n",
    "    'OMEGA': 0.1,\n",
    "}\n",
    "\n",
    "myClient = input('Please, enter a client name: ')\n",
    "totalCost = 7200\n",
    "try:\n",
    "    ratio = float(input('Enter a new ratio: '))\n",
    "    print(f'The default % ratio for {myClient} is {clients(myClient)}, a new one is {ratio}')\n",
    "    print(f'The cost for {myClient} is {ratio*totalCost}')\n",
    "    print(f'The new ratio compared to old ratio: {clients(myClient)/ratio}')\n",
    "\n",
    "except KeyError as e: # Wartości nie ma na liście\n",
    "    print(f'Client {myClient} is not on the list {[c for c in clients.keys()]}\\n Details: {e}')\n",
    "\n",
    "except ValueError as e: # Niepoprawna wartość\n",
    "    print(f'There is a problem with entered value for ratio - it must be a number.\\n Detail: {e}')\n",
    "\n",
    "except ZeroDivisionError as e:          # błąd dzielenia przez 0\n",
    "    print(f'The new ratio cannot be 0.\\n Detail: {e}')\n",
    "\n",
    "except Exception as e: # Obsługa innych błędów\n",
    "    print(f'Sorry we have an error...\\n Details: {e}')\n",
    "\n",
    "'''\n",
    "except (KeyError,ZeroDivisionError) as e:          # można jednym komunikatem obsłużyć kilka błędów\n",
    "    print(f'The new ratio cannot be 0.\\n Detail: {e}')   \n",
    "''' "
   ]
  },
  {
   "cell_type": "markdown",
   "metadata": {},
   "source": [
    "Zgłaszanie własnych błędów"
   ]
  },
  {
   "cell_type": "code",
   "execution_count": 3,
   "metadata": {},
   "outputs": [
    {
     "name": "stdout",
     "output_type": "stream",
     "text": [
      "Proccessing invoice: netto = 1230, brutto = 1500\n"
     ]
    }
   ],
   "source": [
    "\n",
    "\n",
    "def ProcessInvoice (netto,brutto):\n",
    "    if netto>=brutto:\n",
    "        raise Exception('Netto should be lower or equal to brutto')\n",
    "    else:\n",
    "        print(f'Proccessing invoice: netto = {netto}, brutto = {brutto}')\n",
    "\n",
    "def EndOfMonth():\n",
    "    netto = 1230\n",
    "    brutto = 1000\n",
    "    try:\n",
    "        ProcessInvoice(netto, brutto)\n",
    "    except ValueError as e:\n",
    "        print(f'The Values on invoice are incorrect: {e}')\n",
    "        raise ValueError('Error when proccessing invoices') from e\n",
    "    except Exception as e:\n",
    "        print(f'Error proccessing invoice: {e}')\n",
    "        raise Exception(f'General error when proccessing invoices: {e}')\n",
    "\n",
    "EndOfMonth()\n"
   ]
  },
  {
   "cell_type": "markdown",
   "metadata": {},
   "source": [
    "Assert => założenie\n",
    "W przypadku nie spełnienia założenia program przerywa działanie i wyświetla błąd"
   ]
  },
  {
   "cell_type": "code",
   "execution_count": null,
   "metadata": {},
   "outputs": [],
   "source": [
    "import datetime\n",
    "\n",
    "netto = 1000\n",
    "brutto = 120\n",
    "\n",
    "assert netto <= brutto, 'Netto cannot be greater than brutto'\n",
    "\n",
    "order_date = datetime.date(2022,10,13)\n",
    "delivery_date = datetime.date(2022,10,18)\n",
    "assert order_date <= delivery_date, 'Order date cannot be later than delivery date'\n",
    "\n",
    "# to much assert may be bad for optimalization of code\n",
    "\n",
    "\n"
   ]
  },
  {
   "cell_type": "markdown",
   "metadata": {},
   "source": [
    "Customize exceptions => własne wyjątki!"
   ]
  },
  {
   "cell_type": "code",
   "execution_count": null,
   "metadata": {},
   "outputs": [],
   "source": [
    "class BITException(Exception):\n",
    "    def __init__(self,text,area):\n",
    "        super().__init__(text)\n",
    "        self.area = area\n",
    "    \n",
    "    def __str__(self):\n",
    "        return f'{super.__str__()}, area: {self.area}'\n",
    "\n",
    "class BITSecurityException(BITException):\n",
    "    pass\n",
    "\n",
    "class BITDataFormatException(BITException):\n",
    "    pass\n",
    "\n",
    "try:\n",
    "    #do something\n",
    "    \n",
    "    raise BITException('file format is incorect', 'Financial data')\n",
    "except BITSecurityException as e:\n",
    "    print(f'Application Error: {e}, area: {e.area}')\n",
    "except BITDataFormatException as e:\n",
    "    print(f'Application data malformed Error: {e}, area: {e.area}')\n",
    "except BITException as e:\n",
    "    print(f'Application Error: {e}, area: {e.area}')\n",
    "except Exception as e:\n",
    "    print(f'Application General Error: {e}')\n",
    "\n",
    "\n",
    "try:\n",
    "    #do something\n",
    "    raise BITException('file format is incorect', 'Personal Information')\n",
    "except BITException as e:\n",
    "    print(f'Application Error: {e}, area: {e.area}')\n",
    "\n",
    "\n"
   ]
  },
  {
   "cell_type": "markdown",
   "metadata": {},
   "source": [
    "Iterators => iter() and next()\n",
    "\n",
    "iter = iteratorem klasy jest ta sama klasa\n",
    "next = zwraca kolejne wartości"
   ]
  },
  {
   "cell_type": "code",
   "execution_count": null,
   "metadata": {},
   "outputs": [],
   "source": [
    "import datetime as dt\n",
    "import sys\n",
    "\n",
    "start = dt.datetime.now()\n",
    "print(f'Execution started at: {start}')\n",
    "\n",
    "#    dates = [dt.date(2000,1,1) + dt.timedelta(days = i) for i in range (2500000)]\n",
    "#    print(f'Size of dates is {sys.getsizeof(dates)}')\n",
    "#    for d in dates: pass\n",
    "\n",
    "class Million_Days: # remember start data and max_days\n",
    "\n",
    "    def __init__(self, year, month, day, maxdays):\n",
    "        self.date = dt.date(year, month, day)\n",
    "        self.maxdays = maxdays\n",
    "\n",
    "    def __next__(self): # klasa jest iteratorem /tę funkcję wywołuje iterator, kiedy będzie potrzebował kolejną wartość\n",
    "        if self.maxdays <=0:\n",
    "            raise StopIteration()\n",
    "        ret = self.date\n",
    "        self.date += dt.timedelta(days=1)\n",
    "        self.maxdays-=1\n",
    "        return ret\n",
    "    \n",
    "    def __iter__(self): # jest iterable\n",
    "        return self\n",
    "\n",
    "md = Million_Days(2000,1,1,2500000)\n",
    "print(f'Size of dates is {sys.getsizeof(md)}')\n",
    "for d in md: pass    \n",
    "\n",
    "stop = dt.datetime.now()\n",
    "print(f'Execution stopped at: {stop}')\n",
    "print(f'Total time: {stop - start}')"
   ]
  },
  {
   "cell_type": "code",
   "execution_count": null,
   "metadata": {},
   "outputs": [],
   "source": [
    "aTuple = (1,2,3,4,5)\n",
    "\n",
    "for i in aTuple:\n",
    "    print(i)\n",
    "\n",
    "# print(next(aTuple)) # ERROR\n",
    "\n",
    "it1 = iter(aTuple)\n",
    "print(next(it1))\n",
    "\n",
    "print(25*'=')\n",
    "aList = [1,2,3,4,5]\n",
    "\n",
    "for i in aList:\n",
    "    print(i)\n",
    "\n",
    "# print(next(aTuple)) # ERROR\n",
    "\n",
    "it2 = iter(aList)\n",
    "print(next(it2))\n",
    "\n",
    "print(25*'=')\n",
    "aSet = {1,2, (3,4), 'element', 3,4}\n",
    "\n",
    "for i in aSet:\n",
    "    print(i)\n",
    "\n",
    "# print(next(aTuple)) # ERROR\n",
    "\n",
    "it3 = iter(aSet)\n",
    "print(next(it3))\n",
    "\n",
    "with open(r'c:\\\\temp\\\\lines.txt','r') as file:\n",
    "    while True:\n",
    "        try:\n",
    "            print(next(file))\n",
    "        except StopIteration:\n",
    "            break"
   ]
  },
  {
   "cell_type": "markdown",
   "metadata": {},
   "source": [
    "Basic iterator GetItem"
   ]
  },
  {
   "cell_type": "code",
   "execution_count": null,
   "metadata": {},
   "outputs": [],
   "source": [
    "import datetime as dt\n",
    "\n",
    "class Million_Days:\n",
    "\n",
    "    def __init__(self, year, month, day, maxdays):\n",
    "        self.date = dt.datetime(year, month, day)\n",
    "        self.maxdays = maxdays\n",
    "\n",
    "# obiekt będzie iterable kiedy zastosujemy metodę __getitem__\n",
    "\n",
    "    def __getitem__(self, item):\n",
    "        if item <= self.maxdays:\n",
    "            return self.date + dt.timedelta(days = item)\n",
    "        else: raise StopIteration()\n",
    "    \n",
    "md = Million_Days(2000,1,1,250000)\n",
    "\n",
    "#print(md[0], md[1], md[10])\n",
    "\n",
    "it = iter(md)\n",
    "\n",
    "for i in range(20):\n",
    "    print(next(it))\n",
    "\n",
    "# for d in md:\n",
    "#    print(d)"
   ]
  },
  {
   "cell_type": "code",
   "execution_count": 7,
   "metadata": {},
   "outputs": [
    {
     "name": "stdout",
     "output_type": "stream",
     "text": [
      "2000-01-01\n",
      "2000-01-02\n",
      "2000-01-03\n"
     ]
    }
   ],
   "source": [
    "import datetime as dt\n",
    "\n",
    "class Milion_Days_Iterator:\n",
    "    def __init__(self,date,maxdays):\n",
    "        self.date = date\n",
    "        self.maxdays = maxdays\n",
    "    \n",
    "    def __next__(self): # klasa jest iteratorem /tę funkcję wywołuje iterator, kiedy będzie potrzebował kolejną wartość\n",
    "        if self.maxdays <=0:\n",
    "            raise StopIteration()\n",
    "        ret = self.date\n",
    "        self.date += dt.timedelta(days=1)\n",
    "        self.maxdays-=1\n",
    "        return ret\n",
    "    \n",
    "#    def __iter__(self):  # we don't need that \n",
    "#        return self\n",
    "        \n",
    "class Million_Days: \n",
    "\n",
    "    def __init__(self, year, month, day, maxdays):\n",
    "        self.date = dt.date(year, month, day)\n",
    "        self.maxdays = maxdays\n",
    "        self.iterator = Milion_Days_Iterator(self.date,self.maxdays)\n",
    "    \n",
    "    def __iter__(self): # jest iterable\n",
    "        return self.iterator\n",
    "\n",
    "md = Million_Days(2000,1,1,3)\n",
    "for d in md: print(d)   "
   ]
  },
  {
   "cell_type": "markdown",
   "metadata": {},
   "source": [
    "Generatory - funkcja nie klasa\n",
    "yield - generuje wartość w funkcji a potem ją zamraża dopóki nie zostanie później wywołana"
   ]
  },
  {
   "cell_type": "code",
   "execution_count": null,
   "metadata": {},
   "outputs": [],
   "source": [
    "# generator jest funkcją\n",
    "# słowem kluczowym, po którym można poznać generator jest wyrażenie yield()\n",
    "# kiedy generator nie ma już dalej czego generować dojdzie do wyjątku StopIteration() i pętla for się zakończy "
   ]
  },
  {
   "cell_type": "code",
   "execution_count": 11,
   "metadata": {},
   "outputs": [
    {
     "name": "stdout",
     "output_type": "stream",
     "text": [
      "2000-01-01\n",
      "2000-01-02\n",
      "2000-01-03\n",
      "=========================\n",
      "22\n",
      "4\n",
      "5\n"
     ]
    }
   ],
   "source": [
    "import datetime as dt\n",
    "\n",
    "def million_days(year, month,day,maxdays):\n",
    "    date = dt.date(year,month,day)\n",
    "\n",
    "    for i in range(maxdays):\n",
    "        yield(date+dt.timedelta(days=i))\n",
    "\n",
    "\n",
    "for d in million_days(2000,1,1,3): print(d)   \n",
    "\n",
    "print(25*'=')\n",
    "\n",
    "def GetMagicNumbers():\n",
    "    yield(22)\n",
    "    yield(4)\n",
    "    yield(5)\n",
    "\n",
    "r = GetMagicNumbers()\n",
    "print(next(r))\n",
    "print(next(r))\n",
    "print(next(r))\n",
    "\n",
    "# lazy evaluation - function generates numbers with delay \n"
   ]
  },
  {
   "cell_type": "code",
   "execution_count": null,
   "metadata": {},
   "outputs": [],
   "source": [
    "def combinations(products, promotions, customers):\n",
    "    for i in products:\n",
    "        for j in promotions:\n",
    "            for k in customers:\n",
    "                yield(f'{i} - {j} - {k}')\n",
    "\n",
    "products = [\"Product {}\".format(i) for i in range(1, 4)]\n",
    "promotions = [\"Promotion {}\".format(i) for i in range(1, 3)]\n",
    "customers = ['Customer {}'.format(i) for i in range(1, 5)]\n",
    "\n",
    "for c in combinations(products, promotions, customers):\n",
    "    print(c)\n",
    "\n",
    "# generator przy pomocy funkcji yield tworzy trójki kombinacji produnktów promocji i klientów - oszczędzając w ten sposób pamięć\n",
    "# oszczędność pamięci"
   ]
  },
  {
   "cell_type": "code",
   "execution_count": 1,
   "metadata": {},
   "outputs": [
    {
     "name": "stdout",
     "output_type": "stream",
     "text": [
      "200|[42, 6, 52]\n",
      "737|[23, 62, 15]\n",
      "100|[21, 16, 63]\n",
      "220|[24, 37, 39]\n",
      "453|[37, 2, 61]\n",
      "286|[40, 39, 21]\n",
      "11|[20, 52, 28]\n",
      " 22|[16, 81, 3]\n",
      "214|[28, 51, 21]\n",
      " 1|[47, 21, 32]\n"
     ]
    }
   ],
   "source": [
    "import random\n",
    "\n",
    "def random_with_sum(num_of_variables = 3, asserted_value = 100):\n",
    "    trial = 0 \n",
    "    numbers = [x for x in range(num_of_variables)]\n",
    "    while True:\n",
    "        \n",
    "        trial+=1\n",
    "        \n",
    "        for i in range(num_of_variables):\n",
    "            numbers[i] = (random.randint(1,101))\n",
    "        \n",
    "        if sum(numbers) == asserted_value:\n",
    "            yield ((trial,numbers)) # zwracamy krotke pokazującą po ilu próbach trafilismy na odpowiednia kombinacje\n",
    "            trial = 0\n",
    "        \n",
    "\n",
    "for i in range(10):\n",
    "    (number_of_trials, numbers) = next(random_with_sum()) # wywolanie kolejnych wartosci funkcji i przekonwertowanie zapisu generatora na krotke\n",
    "    print(f'{number_of_trials}|{numbers}'.center(15))"
   ]
  },
  {
   "cell_type": "markdown",
   "metadata": {},
   "source": [
    "Skrypt szukający określonego słowa w plikach danej lokalizacji"
   ]
  },
  {
   "cell_type": "code",
   "execution_count": 7,
   "metadata": {},
   "outputs": [
    {
     "name": "stdout",
     "output_type": "stream",
     "text": [
      "LAB30.py\n",
      "main.py\n",
      "main_2.py\n",
      "C:\\Python - skrypty\\KURS - UDEMY - Mobilo - Średniozaawansowany\\LAB30.py\n",
      "C:\\Python - skrypty\\KURS - UDEMY - Mobilo - Średniozaawansowany\\LAB31 - html export\\main.py\n",
      "C:\\Python - skrypty\\KURS - UDEMY - Mobilo - Średniozaawansowany\\LAB31 - html export\\main_2.py\n"
     ]
    }
   ],
   "source": [
    "# grep() function => prints lines that contain a match for one or more patterns\n",
    "# czyli wyświetla linijki, które zawierają pewien określony ciąg znaków\n",
    "\n",
    "import os\n",
    "path = r'C:\\Python - skrypty\\KURS - UDEMY - Mobilo - Średniozaawansowany'\n",
    "search_string = 'Muffin' # szukana fraza\n",
    "file_extension = '.py'\n",
    "\n",
    "for dir_name, subdirs,filenames in os.walk(path): # os.walk(ścieżka) => przechodzi rekurencyjnie przez wszystkie lokalizacje w folderze i zwraca informacje o nich\n",
    "    # print(f'{dir_name} - {subdirs} - {filenames}')\n",
    "    for filename in filenames:\n",
    "        if filename.endswith(file_extension):\n",
    "            fullFileName = os.path.join(dir_name, filename) # łączy nazwę pliku z nazwą katalogu\n",
    "            for line in open(fullFileName):\n",
    "                if search_string in line:\n",
    "                    print(filename)\n",
    "\n",
    "def generate_files(base_dir,file_extension):\n",
    "    for dir_name, subdirs,filenames in os.walk(path): \n",
    "    # print(f'{dir_name} - {subdirs} - {filenames}')\n",
    "        for filename in filenames:\n",
    "            if filename.endswith(file_extension):\n",
    "                fullFileName = os.path.join(dir_name, filename)\n",
    "                yield fullFileName\n",
    "\n",
    "def grep_files(search_string, files):\n",
    "    for file in files:\n",
    "        with open(file) as text:\n",
    "            if search_string in text.read():\n",
    "                yield file\n",
    "\n",
    "file_generator = generate_files(path, file_extension)\n",
    "\n",
    "for file in grep_files(search_string, file_generator):\n",
    "    print(file)\n",
    "\n",
    "\n",
    "\n",
    "\n",
    "\n"
   ]
  }
 ],
 "metadata": {
  "kernelspec": {
   "display_name": "Python 3",
   "language": "python",
   "name": "python3"
  },
  "language_info": {
   "codemirror_mode": {
    "name": "ipython",
    "version": 3
   },
   "file_extension": ".py",
   "mimetype": "text/x-python",
   "name": "python",
   "nbconvert_exporter": "python",
   "pygments_lexer": "ipython3",
   "version": "3.11.4"
  },
  "orig_nbformat": 4
 },
 "nbformat": 4,
 "nbformat_minor": 2
}
