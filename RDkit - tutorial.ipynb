{
 "cells": [
  {
   "cell_type": "markdown",
   "metadata": {},
   "source": [
    "# This is the tutorial for RDkit"
   ]
  },
  {
   "cell_type": "markdown",
   "metadata": {},
   "source": [
    "All important Libraries to the code"
   ]
  },
  {
   "cell_type": "code",
   "execution_count": 4,
   "metadata": {},
   "outputs": [],
   "source": [
    "from rdkit import Chem\n",
    "from rdkit.Chem.Draw import IPythonConsole\n",
    "from rdkit.Chem import Draw \n",
    "\n",
    "#IPythonConsole.ipython_useSVG=True \n",
    "#IPythonConsole.drawOptions.addAtomIndices = True # wstawia oznaczenia przy atomach węgla"
   ]
  },
  {
   "cell_type": "code",
   "execution_count": 5,
   "metadata": {},
   "outputs": [
    {
     "data": {
      "image/png": "[encoded data removed]",
      "text/plain": [
       "<rdkit.Chem.rdchem.Mol at 0x170782d63b0>"
      ]
     },
     "execution_count": 5,
     "metadata": {},
     "output_type": "execute_result"
    }
   ],
   "source": [
    "# Konwersja napisu w formacie SMILES do obiektu Mol\n",
    "cholecalciferol_classic = Chem.MolFromSmiles('CC(C)CCCC(C)C1CCC2C1(CCCC2=CC=C3CC(CCC3=C)O)C')\n",
    "# Wyświetlenie w formie graficznej\n",
    "cholecalciferol_classic\n"
   ]
  },
  {
   "cell_type": "code",
   "execution_count": null,
   "metadata": {},
   "outputs": [],
   "source": [
    "# Funkcja, która nadaje index poszczególnym atomom węgla\n",
    "def mol_with_atom_index(mol):\n",
    "    for atom in mol.GetAtoms():\n",
    "        atom.SetAtomMapNum(atom.GetIdx())\n",
    "    return mol\n",
    "\n",
    "# Z indexami atomów\n",
    "mol_with_atom_index(cholecalciferol_classic)"
   ]
  },
  {
   "cell_type": "code",
   "execution_count": 32,
   "metadata": {},
   "outputs": [
    {
     "data": {
      "text/plain": [
       "3"
      ]
     },
     "execution_count": 32,
     "metadata": {},
     "output_type": "execute_result"
    }
   ],
   "source": [
    "# Zwraca liczbę atomów w danej strukturze\n",
    "cholecalciferol_classic.GetNumAtoms()"
   ]
  },
  {
   "cell_type": "code",
   "execution_count": null,
   "metadata": {},
   "outputs": [],
   "source": [
    "acetone = Chem.MolFromSmiles('CC(=O)C')\n",
    "# Zwraca liczbę wiązań C-C typu sigma w danej cząsteczce\n",
    "acetone.GetNumBonds() #3"
   ]
  },
  {
   "cell_type": "code",
   "execution_count": 36,
   "metadata": {},
   "outputs": [
    {
     "data": {
      "text/plain": [
       "780"
      ]
     },
     "execution_count": 36,
     "metadata": {},
     "output_type": "execute_result"
    }
   ],
   "source": [
    "# konwersja pliku w formacie PDB do obiektu Mol\n",
    "mushroom = Chem.MolFromPDBFile(r'C:\\Python - skrypty\\Notatki do Pythona\\RD-Kit\\5gy6.pdb')\n",
    "# Zwraca liczbę atomów w tej strukturze\n",
    "mushroom.GetNumAtoms()"
   ]
  },
  {
   "cell_type": "code",
   "execution_count": 44,
   "metadata": {},
   "outputs": [
    {
     "data": {
      "text/plain": [
       "[(3, 'GLY'), (4, 'GLY'), (5, 'CYS'), (6, 'SER'), (7, 'CYS'), (8, 'ALA')]"
      ]
     },
     "execution_count": 44,
     "metadata": {},
     "output_type": "execute_result"
    }
   ],
   "source": [
    "# wyciągamy z pliku PDB informacje o poszczególnych jednostkach tworzących białko\n",
    "# w tym wypadku są to aminokwasy\n",
    "# residues to lista obiektów klasy rdkit.Chem.rdchem.AtomPDBResidueInfo \n",
    "\n",
    "residues = [atom.GetPDBResidueInfo() for atom in mushroom.GetAtoms()]\n",
    "\n",
    "# Z każdej instancji tej klasy wyciągamy numer i nazwę aminokwasu\n",
    "# resinf to lista zbiorów par numer - nazwa aminokwasu \n",
    "\n",
    "resinf = [(res.GetResidueNumber(), res.GetResidueName()) for res in residues]\n",
    "\n",
    "# Z uwagi na długość tej listy i szereg powtarzających się elementów można ją posortować\n",
    "# konwersja do typu set usuwa powtrzające się wartości więc widzimy ile czego jest\n",
    "# funkcja sorted porządkuje ze względu na pierwszy element (numery rosnąco)\n",
    "residues = sorted(set(resinf)) \n",
    "len(residues) # Output: 209\n",
    "\n",
    "residues[:6]"
   ]
  },
  {
   "cell_type": "markdown",
   "metadata": {},
   "source": [
    "# Grupy funkcyjne "
   ]
  },
  {
   "cell_type": "code",
   "execution_count": null,
   "metadata": {},
   "outputs": [],
   "source": [
    "'''\n",
    "Abbrev     SMILES\n",
    "--------   --------\n",
    "CO2Et      *C(=O)OCC\n",
    "COOEt      *C(=O)OCC\n",
    "OiBu       *OCC(C)C\n",
    "nDec       *CCCCCCCCCC\n",
    "nNon       *CCCCCCCCC\n",
    "nOct       *CCCCCCCC\n",
    "nHept      *CCCCCCC\n",
    "nHex       *CCCCCC\n",
    "nPent      *CCCCC\n",
    "iPent      *C(C)CCC\n",
    "tBu        *C(C)(C)C\n",
    "iBu        *C(C)CC\n",
    "nBu        *CCCC\n",
    "iPr        *C(C)C\n",
    "nPr        *CCC\n",
    "Et         *CC\n",
    "NCF3       *NC(F)(F)F\n",
    "CF3        *C(F)(F)F\n",
    "CCl3       *C(Cl)(Cl)Cl\n",
    "CN         *C#N\n",
    "NC         *[N+]#[C-]\n",
    "N(OH)CH3   *N(C)[OH]\n",
    "NO2        *[N+](=O)[O-]\n",
    "NO         *N=O\n",
    "SO3H       *S(=O)(=O)[OH]\n",
    "CO2H       *C(=O)[OH]\n",
    "COOH       *C(=O)[OH]\n",
    "OEt        *OCC\n",
    "OAc        *OC(C)=O\n",
    "NHAc       *NC(C)=O\n",
    "Ac         *C(C)=O\n",
    "CHO        *C=O\n",
    "NMe        *NC\n",
    "SMe        *SC\n",
    "OMe        *OC\n",
    "CO2-       *C(=O)[O-]\n",
    "COO-       *C(=O)[O-]\n",
    "\n",
    "'''\n"
   ]
  }
 ],
 "metadata": {
  "kernelspec": {
   "display_name": "Python 3",
   "language": "python",
   "name": "python3"
  },
  "language_info": {
   "codemirror_mode": {
    "name": "ipython",
    "version": 3
   },
   "file_extension": ".py",
   "mimetype": "text/x-python",
   "name": "python",
   "nbconvert_exporter": "python",
   "pygments_lexer": "ipython3",
   "version": "3.11.4"
  },
  "orig_nbformat": 4
 },
 "nbformat": 4,
 "nbformat_minor": 2
}
